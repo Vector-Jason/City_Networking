{
  "nbformat": 4,
  "nbformat_minor": 0,
  "metadata": {
    "colab": {
      "provenance": [],
      "gpuType": "T4"
    },
    "kernelspec": {
      "name": "python3",
      "display_name": "Python 3"
    },
    "language_info": {
      "name": "python"
    },
    "accelerator": "GPU"
  },
  "cells": [
    {
      "cell_type": "code",
      "source": [
        "!unzip \"/content/drive/MyDrive/omniglot.zip\" -d \"/content/omniglot\"\n",
        "!unzip \"/content/drive/MyDrive/runs.zip\" -d \"/content/\""
      ],
      "metadata": {
        "colab": {
          "base_uri": "https://localhost:8080/"
        },
        "id": "6DQiy84BPAbu",
        "outputId": "0457f26c-97a9-4124-d8ad-b2c976074664"
      },
      "execution_count": 2,
      "outputs": [
        {
          "output_type": "stream",
          "name": "stdout",
          "text": [
            "Archive:  /content/drive/MyDrive/runs.zip\n",
            "   creating: /content/runs/exp/\n",
            "   creating: /content/runs/exp/checkpoint/\n",
            "   creating: /content/runs/exp/tensorboard_log/\n",
            "  inflating: /content/runs/exp/train_args.json  \n",
            "   creating: /content/runs/exp10/\n",
            "   creating: /content/runs/exp10/checkpoint/\n",
            "   creating: /content/runs/exp10/tensorboard_log/\n",
            "  inflating: /content/runs/exp10/tensorboard_log/events.out.tfevents.1685376194.BurtonChang.13020.0  \n",
            "  inflating: /content/runs/exp10/train_args.json  \n",
            "   creating: /content/runs/exp11/\n",
            "   creating: /content/runs/exp11/checkpoint/\n",
            "  inflating: /content/runs/exp11/checkpoint/proto_best.pth  \n",
            "  inflating: /content/runs/exp11/checkpoint/proto_last.pth  \n",
            "   creating: /content/runs/exp11/tensorboard_log/\n",
            "  inflating: /content/runs/exp11/tensorboard_log/events.out.tfevents.1685376254.BurtonChang.15432.0  \n",
            "   creating: /content/runs/exp11/tensorboard_log/Loss_TrainLoss/\n",
            "  inflating: /content/runs/exp11/tensorboard_log/Loss_TrainLoss/events.out.tfevents.1685376256.BurtonChang.15432.1  \n",
            "   creating: /content/runs/exp11/tensorboard_log/Loss_ValLoss/\n",
            "  inflating: /content/runs/exp11/tensorboard_log/Loss_ValLoss/events.out.tfevents.1685376256.BurtonChang.15432.2  \n",
            "   creating: /content/runs/exp11/tensorboard_log/Metrics_F_score/\n",
            "  inflating: /content/runs/exp11/tensorboard_log/Metrics_F_score/events.out.tfevents.1685376256.BurtonChang.15432.4  \n",
            "   creating: /content/runs/exp11/tensorboard_log/Metrics_mAP/\n",
            "  inflating: /content/runs/exp11/tensorboard_log/Metrics_mAP/events.out.tfevents.1685376256.BurtonChang.15432.3  \n",
            "  inflating: /content/runs/exp11/train_args.json  \n",
            "   creating: /content/runs/exp12/\n",
            "   creating: /content/runs/exp12/checkpoint/\n",
            "  inflating: /content/runs/exp12/checkpoint/proto_best.pth  \n",
            "  inflating: /content/runs/exp12/checkpoint/proto_last.pth  \n",
            "   creating: /content/runs/exp12/tensorboard_log/\n",
            "  inflating: /content/runs/exp12/tensorboard_log/events.out.tfevents.1685499756.BurtonChang.14276.0  \n",
            "   creating: /content/runs/exp12/tensorboard_log/Loss_TrainLoss/\n",
            "  inflating: /content/runs/exp12/tensorboard_log/Loss_TrainLoss/events.out.tfevents.1685499759.BurtonChang.14276.1  \n",
            "   creating: /content/runs/exp12/tensorboard_log/Loss_ValLoss/\n",
            "  inflating: /content/runs/exp12/tensorboard_log/Loss_ValLoss/events.out.tfevents.1685499759.BurtonChang.14276.2  \n",
            "   creating: /content/runs/exp12/tensorboard_log/Metrics_F_score/\n",
            "  inflating: /content/runs/exp12/tensorboard_log/Metrics_F_score/events.out.tfevents.1685499759.BurtonChang.14276.4  \n",
            "   creating: /content/runs/exp12/tensorboard_log/Metrics_mAP/\n",
            "  inflating: /content/runs/exp12/tensorboard_log/Metrics_mAP/events.out.tfevents.1685499759.BurtonChang.14276.3  \n",
            "  inflating: /content/runs/exp12/train_args.json  \n",
            "   creating: /content/runs/exp2/\n",
            "   creating: /content/runs/exp2/checkpoint/\n",
            "   creating: /content/runs/exp2/tensorboard_log/\n",
            "  inflating: /content/runs/exp2/tensorboard_log/events.out.tfevents.1685375475.BurtonChang.1692.0  \n",
            "  inflating: /content/runs/exp2/train_args.json  \n",
            "   creating: /content/runs/exp3/\n",
            "   creating: /content/runs/exp3/checkpoint/\n",
            "   creating: /content/runs/exp3/tensorboard_log/\n",
            "  inflating: /content/runs/exp3/tensorboard_log/events.out.tfevents.1685375781.BurtonChang.17844.0  \n",
            "  inflating: /content/runs/exp3/train_args.json  \n",
            "   creating: /content/runs/exp4/\n",
            "   creating: /content/runs/exp4/checkpoint/\n",
            "   creating: /content/runs/exp4/tensorboard_log/\n",
            "  inflating: /content/runs/exp4/tensorboard_log/events.out.tfevents.1685375799.BurtonChang.4196.0  \n",
            "  inflating: /content/runs/exp4/train_args.json  \n",
            "   creating: /content/runs/exp5/\n",
            "   creating: /content/runs/exp5/checkpoint/\n",
            "   creating: /content/runs/exp5/tensorboard_log/\n",
            "  inflating: /content/runs/exp5/tensorboard_log/events.out.tfevents.1685375804.BurtonChang.16444.0  \n",
            "  inflating: /content/runs/exp5/train_args.json  \n",
            "   creating: /content/runs/exp6/\n",
            "   creating: /content/runs/exp6/checkpoint/\n",
            "   creating: /content/runs/exp6/tensorboard_log/\n",
            "  inflating: /content/runs/exp6/tensorboard_log/events.out.tfevents.1685376087.BurtonChang.9780.0  \n",
            "  inflating: /content/runs/exp6/train_args.json  \n",
            "   creating: /content/runs/exp7/\n",
            "   creating: /content/runs/exp7/checkpoint/\n",
            "   creating: /content/runs/exp7/tensorboard_log/\n",
            "  inflating: /content/runs/exp7/tensorboard_log/events.out.tfevents.1685376156.BurtonChang.14600.0  \n",
            "  inflating: /content/runs/exp7/train_args.json  \n",
            "   creating: /content/runs/exp8/\n",
            "   creating: /content/runs/exp8/checkpoint/\n",
            "   creating: /content/runs/exp8/tensorboard_log/\n",
            "  inflating: /content/runs/exp8/tensorboard_log/events.out.tfevents.1685376171.BurtonChang.3564.0  \n",
            "  inflating: /content/runs/exp8/train_args.json  \n",
            "   creating: /content/runs/exp9/\n",
            "   creating: /content/runs/exp9/checkpoint/\n",
            "   creating: /content/runs/exp9/tensorboard_log/\n",
            "  inflating: /content/runs/exp9/tensorboard_log/events.out.tfevents.1685376182.BurtonChang.2524.0  \n",
            "  inflating: /content/runs/exp9/train_args.json  \n"
          ]
        }
      ]
    },
    {
      "cell_type": "markdown",
      "source": [
        "#Dataset"
      ],
      "metadata": {
        "id": "MnZVpvm1Lomy"
      }
    },
    {
      "cell_type": "code",
      "execution_count": 3,
      "metadata": {
        "id": "JLpxh-SMLEGL"
      },
      "outputs": [],
      "source": [
        "import pandas as pd\n",
        "import torch\n",
        "from torch.utils.data import Dataset\n",
        "from torchvision import transforms\n",
        "from PIL import Image\n",
        "\n",
        "\n",
        "DATA_CACHE = {}\n",
        "\n",
        "\n",
        "def read_data(csv_path):\n",
        "    root = '/'.join(csv_path.split('/')[:-1])\n",
        "    df = pd.read_csv(csv_path)\n",
        "    df['filename'] = df['filename'].apply(lambda x: '/'.join([root, x]))\n",
        "    return df\n",
        "\n",
        "\n",
        "def shuffle_dim0(tensor_):\n",
        "    idx = torch.randperm(tensor_.shape[0])\n",
        "    return tensor_[idx]\n",
        "\n",
        "\n",
        "def random_sample_dim0(tensor_, num):\n",
        "    idx = torch.randperm(tensor_.shape[0])[:num]\n",
        "    return tensor_[idx]\n",
        "\n",
        "\n",
        "def path_to_img(img_path, img_channels, img_size):\n",
        "    if img_channels == 1:\n",
        "        norm = transforms.Normalize(mean=[0.5], std=[0.5])\n",
        "    elif img_channels == 3:\n",
        "        norm = transforms.Normalize(mean=[0.485, 0.456, 0.406], std=[0.229, 0.224, 0.225])\n",
        "    else:\n",
        "        raise Exception('Only 1-channel and 3-channel data are supported at present.')\n",
        "    transform = transforms.Compose([\n",
        "        transforms.Resize(img_size),\n",
        "        transforms.CenterCrop(img_size),\n",
        "        transforms.ToTensor(),\n",
        "        norm\n",
        "    ])\n",
        "    img = Image.open(img_path)\n",
        "    img = transform(img)\n",
        "    return img\n",
        "\n",
        "\n",
        "class ImageDataset(Dataset):\n",
        "    def __init__(self, data_path, shot, query, img_channels, img_size):\n",
        "        super(ImageDataset, self).__init__()\n",
        "        self.shot = shot\n",
        "        self.query = query\n",
        "        self.img_channels = img_channels\n",
        "        self.img_size = img_size\n",
        "\n",
        "        df = read_data(data_path)\n",
        "        self.label_imgPaths_dict = df.groupby('label').apply(lambda x: x['filename'].tolist()).to_dict()\n",
        "        self.labels = list(self.label_imgPaths_dict.keys())\n",
        "\n",
        "    def __getitem__(self, item):\n",
        "        label = self.labels[item]\n",
        "\n",
        "        if label not in DATA_CACHE:\n",
        "            img_paths = self.label_imgPaths_dict[label]\n",
        "            data = torch.stack([path_to_img(path, self.img_channels, self.img_size) for path in img_paths], dim=0)\n",
        "            DATA_CACHE[label] = data  # shape: (num of one class samples, c, w, h)\n",
        "        else:\n",
        "            data = DATA_CACHE[label]\n",
        "\n",
        "        support_data = data[:self.shot]\n",
        "        query_data = data[-self.query:]\n",
        "        return support_data, query_data\n",
        "\n",
        "    def __len__(self):\n",
        "        return len(self.labels)\n",
        "\n",
        "\n",
        "class EpisodicBatchSampler(object):\n",
        "    def __init__(self, n_classes, n_way, n_episodes):\n",
        "        self.n_classes = n_classes\n",
        "        self.n_way = n_way\n",
        "        self.n_episodes = n_episodes\n",
        "\n",
        "    def __len__(self):\n",
        "        return self.n_episodes\n",
        "\n",
        "    def __iter__(self):\n",
        "        for i in range(self.n_episodes):\n",
        "            yield torch.randperm(self.n_classes)[:self.n_way]\n",
        "\n"
      ]
    },
    {
      "cell_type": "markdown",
      "source": [
        "#utils"
      ],
      "metadata": {
        "id": "Q5r9lvcuRxLS"
      }
    },
    {
      "cell_type": "code",
      "source": [
        "import os\n",
        "import re\n",
        "import glob\n",
        "from pathlib import Path\n",
        "import random\n",
        "import numpy as np\n",
        "import torch\n",
        "import torch.nn as nn\n",
        "from sklearn.metrics import f1_score\n",
        "\n",
        "\n",
        "class AverageMeter(object):\n",
        "    \"\"\"Computes and stores the average and current value\"\"\"\n",
        "    def __init__(self):\n",
        "        self.reset()\n",
        "\n",
        "    def reset(self):\n",
        "        self.val = 0\n",
        "        self.avg = 0\n",
        "        self.sum = 0\n",
        "        self.count = 0\n",
        "\n",
        "    def update(self, val, n=1):\n",
        "        self.val = val\n",
        "        self.sum += val * n\n",
        "        self.count += n\n",
        "        self.avg = self.sum / self.count\n",
        "\n",
        "\n",
        "def set_seed(seed=1024):\n",
        "    if seed < 0:\n",
        "        seed = random.randint(0, 100000)\n",
        "    random.seed(seed)\n",
        "    os.environ['PYTHONHASHSEED'] = str(seed)\n",
        "    np.random.seed(seed)\n",
        "    torch.manual_seed(seed)\n",
        "    torch.cuda.manual_seed(seed)\n",
        "    torch.cuda.manual_seed_all(seed)\n",
        "    torch.backends.cudnn.benchmark = False\n",
        "    torch.backends.cudnn.deterministic = True\n",
        "    return seed\n",
        "\n",
        "\n",
        "def cosine_similarity(x, y):\n",
        "    # x: N x D\n",
        "    # y: M x D\n",
        "    cos = nn.CosineSimilarity(dim=0)\n",
        "    cos_sim = []\n",
        "    for xi in x:\n",
        "        cos_sim_i = []\n",
        "        for yj in y:\n",
        "            cos_sim_i.append(cos(xi, yj))\n",
        "        cos_sim_i = torch.stack(cos_sim_i)\n",
        "        cos_sim.append(cos_sim_i)\n",
        "    cos_sim = torch.stack(cos_sim)\n",
        "    return cos_sim  # (N, M)\n",
        "\n",
        "\n",
        "def euclidean_dist_similarity(x, y):\n",
        "    # x: N x D\n",
        "    # y: M x D\n",
        "    n = x.size(0)\n",
        "    m = y.size(0)\n",
        "    d = x.size(1)\n",
        "    assert d == y.size(1)\n",
        "\n",
        "    x = x.unsqueeze(1).expand(n, m, d)\n",
        "    y = y.unsqueeze(0).expand(n, m, d)\n",
        "\n",
        "    return -torch.pow(x - y, 2).sum(2)  # N*M\n",
        "\n",
        "\n",
        "def metrics(pred, true):\n",
        "    pred = np.array(pred).reshape(-1)\n",
        "    true = np.array(true).reshape(-1)\n",
        "    # acc\n",
        "    acc = np.mean((pred == true))\n",
        "    # f_score\n",
        "    f_score = f1_score(true, pred, average='macro')\n",
        "    return acc, f_score\n",
        "\n",
        "\n",
        "def increment_path(path, exist_ok=False, sep='', mkdir=False):\n",
        "    # Increment file or directory path, i.e. runs/exp --> runs/exp{sep}2, runs/exp{sep}3, ... etc.\n",
        "    path = Path(path)  # os-agnostic\n",
        "    if path.exists() and not exist_ok:\n",
        "        suffix = path.suffix\n",
        "        path = path.with_suffix('')\n",
        "        dirs = glob.glob(f\"{path}{sep}*\")  # similar paths\n",
        "        matches = [re.search(rf\"%s{sep}(\\d+)\" % path.stem, d) for d in dirs]\n",
        "        i = [int(m.groups()[0]) for m in matches if m]  # indices\n",
        "        n = max(i) + 1 if i else 2  # increment number\n",
        "        path = Path(f\"{path}{sep}{n}{suffix}\")  # update path\n",
        "    dir = path if path.suffix == '' else path.parent  # directory\n",
        "    if not dir.exists() and mkdir:\n",
        "        dir.mkdir(parents=True, exist_ok=True)  # make directory\n",
        "    return path"
      ],
      "metadata": {
        "id": "ASe2vGxoRRyk"
      },
      "execution_count": 4,
      "outputs": []
    },
    {
      "cell_type": "markdown",
      "source": [
        "#protonet"
      ],
      "metadata": {
        "id": "ZJzmmLU6Lzi0"
      }
    },
    {
      "cell_type": "code",
      "source": [
        "import torch.nn as nn\n",
        "import torch.nn.functional as F\n",
        "\n",
        "#from utils import cosine_similarity, euclidean_dist_similarity\n",
        "\n",
        "\n",
        "class Flatten(nn.Module):\n",
        "    def __init__(self):\n",
        "        super(Flatten, self).__init__()\n",
        "\n",
        "    def forward(self, x):\n",
        "        return x.view(x.size(0), -1)\n",
        "\n",
        "\n",
        "class ConvEncoder(nn.Module):\n",
        "    def __init__(self, input_img_channels, hidden_channels):\n",
        "        super(ConvEncoder, self).__init__()\n",
        "        self.hidden_channels = hidden_channels\n",
        "        self.input_img_channels = input_img_channels\n",
        "\n",
        "        self.encoder = nn.Sequential(\n",
        "            self.conv_block(self.input_img_channels, self.hidden_channels),\n",
        "            self.conv_block(self.hidden_channels, self.hidden_channels),\n",
        "            self.conv_block(self.hidden_channels, self.hidden_channels),\n",
        "            self.conv_block(self.hidden_channels, self.hidden_channels),\n",
        "            Flatten()\n",
        "        )\n",
        "\n",
        "    def forward(self, x):\n",
        "        raw_shape = x.shape\n",
        "        x = x.view(-1, *raw_shape[-3:])\n",
        "        x = self.encoder(x)\n",
        "        x = x.view(*raw_shape[:-3], -1)\n",
        "        return x\n",
        "\n",
        "    @staticmethod\n",
        "    def conv_block(in_channels, out_channels):\n",
        "        return nn.Sequential(\n",
        "            nn.Conv2d(in_channels, out_channels, kernel_size=7, padding=3),\n",
        "            nn.BatchNorm2d(out_channels),\n",
        "            nn.ReLU(),\n",
        "            nn.MaxPool2d(2)\n",
        "        )\n",
        "\n",
        "\n",
        "class PrototypicalNetwork(nn.Module):\n",
        "    def __init__(self, input_img_channels, hidden_channels):\n",
        "        super(PrototypicalNetwork, self).__init__()\n",
        "        self.encoder = ConvEncoder(input_img_channels, hidden_channels)\n",
        "\n",
        "    def forward(self, x_support, x_query):\n",
        "        \"\"\"\n",
        "        infer an n-way k-shot task\n",
        "        :param x_support: (n, k, c, w, h)\n",
        "        :param x_query: (n, q, c, w, h) or (q, c, w, h)\n",
        "        :return: (q, n)\n",
        "        \"\"\"\n",
        "        x_proto = self.encoder(x_support)  # (n, k, embed_dim)\n",
        "        x_proto = x_proto.mean(1)  # (n, embed_dim)\n",
        "        x_q = self.encoder(x_query)  # (n, q, embed_dim)\n",
        "        x_q = x_q.view(-1, x_q.shape[-1])  # (n*q, embed_dim)\n",
        "\n",
        "        sim_result = self.similarity(x_q, x_proto)  # (n*q, n)\n",
        "\n",
        "        log_p_y = F.log_softmax(sim_result, dim=1)\n",
        "\n",
        "        return log_p_y  # (n*q, n)\n",
        "\n",
        "    @staticmethod\n",
        "    def similarity(a, b, sim_type='cosine'):\n",
        "        methods = {'euclidean': euclidean_dist_similarity, 'cosine': cosine_similarity}\n",
        "        assert sim_type in methods.keys(), f'type must be in {methods.keys()}'\n",
        "        return methods[sim_type](a, b)  # 值越大相似度越高\n"
      ],
      "metadata": {
        "id": "iffD1GzzLR7u"
      },
      "execution_count": 7,
      "outputs": []
    },
    {
      "cell_type": "markdown",
      "source": [
        "#train"
      ],
      "metadata": {
        "id": "Q6lntBU5RX8M"
      }
    },
    {
      "cell_type": "code",
      "source": [
        "#from dataset import ImageDataset, EpisodicBatchSampler\n",
        "#from protonet import PrototypicalNetwork\n",
        "from torch.utils.data import DataLoader\n",
        "import torch\n",
        "import torch.nn as nn\n",
        "import torch.optim as optim\n",
        "from torch.utils.tensorboard.writer import SummaryWriter\n",
        "import os\n",
        "import json\n",
        "import time\n",
        "import numpy as np\n",
        "from tqdm import tqdm\n",
        "#from utils import set_seed, metrics, AverageMeter, increment_path\n",
        "\n",
        "\n",
        "class Train_protonet(object):\n",
        "    def __init__(self, args):\n",
        "        self.args = args\n",
        "        self.args.seed = set_seed(self.args.seed)\n",
        "        self.args.result_path = increment_path(self.args.result_path)\n",
        "        print(f'This training log will be saved in {str(self.args.result_path)}')\n",
        "\n",
        "        self.args.checkpoints_dir = self.args.result_path / self.args.checkpoints_dir\n",
        "        self.args.tensorboard_dir = self.args.result_path / self.args.tensorboard_dir\n",
        "        if not os.path.exists(self.args.checkpoints_dir):\n",
        "            os.makedirs(self.args.checkpoints_dir)\n",
        "        if not os.path.exists(self.args.tensorboard_dir):\n",
        "            os.makedirs(self.args.tensorboard_dir)\n",
        "\n",
        "        # save training args\n",
        "        train_args = {k: str(v) for k, v in self.args.__dict__.copy().items()}\n",
        "        with open(self.args.result_path / 'train_args.json', 'w', encoding='utf-8') as f:\n",
        "            json.dump(train_args, f, ensure_ascii=False, indent=4)\n",
        "\n",
        "        self.model = self._build_model()\n",
        "\n",
        "    def _build_model(self):\n",
        "        model = PrototypicalNetwork(self.args.img_channels, self.args.hidden_channels)\n",
        "        # model.cuda()\n",
        "        return model\n",
        "\n",
        "    def _get_data(self, mode='train'):\n",
        "        if mode == 'train':\n",
        "            data_path = self.args.train_csv_path\n",
        "            way = self.args.way\n",
        "            shot = self.args.shot\n",
        "            query = self.args.query\n",
        "            episodes = self.args.episodes\n",
        "        else:\n",
        "            data_path = self.args.val_csv_path\n",
        "            way = self.args.val_way\n",
        "            shot = self.args.val_shot\n",
        "            query = self.args.val_query\n",
        "            episodes = self.args.val_episodes\n",
        "\n",
        "        data_set = ImageDataset(\n",
        "            data_path=data_path,\n",
        "            shot=shot,\n",
        "            query=query,\n",
        "            img_channels=self.args.img_channels,\n",
        "            img_size=self.args.img_size,\n",
        "        )\n",
        "        sampler = EpisodicBatchSampler(n_classes=len(data_set), n_way=way, n_episodes=episodes)\n",
        "        data_loader = DataLoader(data_set, shuffle=False, batch_sampler=sampler, num_workers=0)\n",
        "        return data_loader\n",
        "\n",
        "    def _select_optimizer(self):\n",
        "        optimizer = optim.Adam(self.model.parameters(), lr=self.args.learning_rate, weight_decay=self.args.weight_decay_step)\n",
        "        scheduler = optim.lr_scheduler.StepLR(optimizer, step_size=self.args.lr_decay_step, gamma=0.1)\n",
        "        return optimizer, scheduler\n",
        "\n",
        "    def _select_criterion(self):\n",
        "        criterion = nn.NLLLoss()\n",
        "        return criterion\n",
        "\n",
        "    def eval_model(self, epoch):\n",
        "        self.model.eval()\n",
        "        val_losses, accuracy, f_score = [AverageMeter() for i in range(3)]\n",
        "        criterion = self._select_criterion()\n",
        "        with torch.no_grad():\n",
        "            val_loader = self._get_data(mode='val')\n",
        "            for step, (x_support, x_query) in enumerate(tqdm(val_loader, desc='Evaluating model')):\n",
        "                # data (n, x, c, w, h)\n",
        "                x_support, x_query = x_support, x_query\n",
        "                n = x_support.shape[0]\n",
        "                q = x_query.shape[1]\n",
        "                y_query = torch.arange(0, n, requires_grad=False).view(n, 1).expand(n, q).reshape(n * q, )\n",
        "                # infer\n",
        "                output = self.model(x_support, x_query)\n",
        "                # loss\n",
        "                loss = criterion(output, y_query).item()\n",
        "                val_losses.update(loss)\n",
        "                # metrics of acc and f_score\n",
        "                pred_ids = torch.argmax(output, dim=-1).cpu().numpy()\n",
        "                y_query = y_query.cpu().numpy()\n",
        "                acc, f_s = metrics(pred_ids, y_query)\n",
        "                accuracy.update(acc)\n",
        "                f_score.update(f_s)\n",
        "        print(f'Epoch: {epoch} evaluation results: Val_loss: {val_losses.avg}, mAP: {accuracy.avg}, F_score: {f_score.avg}')\n",
        "        return val_losses.avg, accuracy.avg, f_score.avg\n",
        "\n",
        "    def train_one_epoch(self, optimizer, scheduler, epoch, total_epochs):\n",
        "        self.model.train()\n",
        "        train_losses = AverageMeter()\n",
        "        criterion = self._select_criterion()\n",
        "        train_loader = self._get_data(mode='train')\n",
        "        epoch_iterator = tqdm(train_loader,\n",
        "                              desc=\"Training [epoch X/X | episode X/X] (loss=X.X | lr=X.X)\",\n",
        "                              bar_format=\"{l_bar}{r_bar}\",\n",
        "                              dynamic_ncols=True)\n",
        "        for step, (x_support, x_query) in enumerate(epoch_iterator):\n",
        "            # data (n, x, c, w, h)\n",
        "            x_support, x_query = x_support, x_query\n",
        "            n = x_support.shape[0]\n",
        "            q = x_query.shape[1]\n",
        "            y_query = torch.arange(0, n, requires_grad=False).view(n, 1).expand(n, q).reshape(n * q, )\n",
        "\n",
        "            # training one episode\n",
        "            optimizer.zero_grad()\n",
        "            output = self.model(x_support, x_query)\n",
        "            loss = criterion(output, y_query)\n",
        "            loss.backward()\n",
        "            optimizer.step()\n",
        "\n",
        "            # log\n",
        "            train_losses.update(loss.item())\n",
        "            epoch_iterator.set_description(\n",
        "                \"Training [epoch %d/%d | episode %d/%d] | (loss=%2.5f | lr=%f)\" %\n",
        "                (epoch, total_epochs, step + 1, len(epoch_iterator), loss.item(), scheduler.get_last_lr()[0])\n",
        "            )\n",
        "        scheduler.step()\n",
        "        return train_losses.avg\n",
        "\n",
        "    def train(self):\n",
        "        start_time = time.strftime('%Y-%m-%d %H:%M:%S', time.localtime())\n",
        "        print(f'[{start_time}] Start Training...')\n",
        "        writer = SummaryWriter(self.args.tensorboard_dir)\n",
        "        best_acc = 0\n",
        "        early_stop_list = []\n",
        "        optimizer, scheduler = self._select_optimizer()\n",
        "        for epoch in range(self.args.epochs):\n",
        "            train_loss = self.train_one_epoch(optimizer, scheduler, epoch, self.args.epochs)\n",
        "            val_loss, accuracy, f_score = self.eval_model(epoch)\n",
        "\n",
        "            # logging\n",
        "            writer.add_scalars('Loss', {'TrainLoss': train_loss, 'ValLoss': val_loss}, epoch)\n",
        "            writer.add_scalars('Metrics', {'mAP': accuracy, 'F_score': f_score}, epoch)\n",
        "\n",
        "            # save checkpoint\n",
        "            torch.save(self.model.state_dict(), self.args.checkpoints_dir / 'proto_last.pth')\n",
        "            if best_acc < accuracy:\n",
        "                torch.save(self.model.state_dict(), self.args.checkpoints_dir / 'proto_best.pth')\n",
        "                best_acc = accuracy\n",
        "\n",
        "            # early stop\n",
        "            early_stop_list.append(val_loss)\n",
        "            if len(early_stop_list)-np.argmin(early_stop_list) > self.args.patience:\n",
        "                break\n",
        "        writer.close()\n",
        "        end_time = time.strftime('%Y-%m-%d %H:%M:%S', time.localtime())\n",
        "        print(f'[{end_time}] End of all training. The highest accuracy is {best_acc}')\n",
        "        return\n"
      ],
      "metadata": {
        "id": "0YbzaoyvManz"
      },
      "execution_count": 8,
      "outputs": []
    },
    {
      "cell_type": "markdown",
      "source": [
        "#run_train"
      ],
      "metadata": {
        "id": "7qzzpdLIRk0l"
      }
    },
    {
      "cell_type": "code",
      "source": [
        "\n",
        "#from train import Train_protonet\n",
        "\n",
        "\n",
        "class TrainArgs(object):\n",
        "    def __init__(self):\n",
        "        # record saving path\n",
        "        self.result_path = './runs/exp'\n",
        "        self.checkpoints_dir = 'checkpoint'\n",
        "        self.tensorboard_dir = 'tensorboard_log'\n",
        "\n",
        "        # data loader args\n",
        "        self.train_csv_path = './omniglot/train.csv'\n",
        "        self.val_csv_path = './omniglot/val.csv'\n",
        "        self.img_channels = 1\n",
        "        self.img_size = 28\n",
        "\n",
        "        self.way = 10\n",
        "        self.shot = 10\n",
        "        self.query = 5\n",
        "        self.episodes = 10\n",
        "\n",
        "        self.val_way = 2\n",
        "        self.val_shot = 10\n",
        "        self.val_query = 5\n",
        "        self.val_episodes = 10\n",
        "\n",
        "        # train args\n",
        "        self.epochs = 600\n",
        "        self.patience = 50\n",
        "        self.learning_rate = 0.0001\n",
        "        self.lr_decay_step = 1\n",
        "        self.weight_decay_step = 0\n",
        "        self.seed = 42\n",
        "\n",
        "        # model args\n",
        "        self.hidden_channels = 64\n",
        "\n",
        "\n",
        "if __name__ == '__main__':\n",
        "    args = TrainArgs()\n",
        "    exp_p = Train_protonet(args)\n",
        "    exp_p.train()\n"
      ],
      "metadata": {
        "id": "IuHOYBDlMbFb",
        "colab": {
          "base_uri": "https://localhost:8080/"
        },
        "outputId": "d345ba8f-add5-44de-883d-17e6896d13bf"
      },
      "execution_count": 9,
      "outputs": [
        {
          "output_type": "stream",
          "name": "stdout",
          "text": [
            "This training log will be saved in runs/exp13\n",
            "[2023-06-30 07:55:49] Start Training...\n"
          ]
        },
        {
          "output_type": "stream",
          "name": "stderr",
          "text": [
            "Training [epoch 0/600 | episode 10/10] | (loss=1.97791 | lr=0.000100): 100%|| 10/10 [00:08<00:00,  1.24it/s]\n",
            "Evaluating model: 100%|██████████| 10/10 [00:00<00:00, 13.98it/s]\n"
          ]
        },
        {
          "output_type": "stream",
          "name": "stdout",
          "text": [
            "Epoch: 0 evaluation results: Val_loss: 0.5473827689886093, mAP: 0.9400000000000001, F_score: 0.9381313131313131\n"
          ]
        },
        {
          "output_type": "stream",
          "name": "stderr",
          "text": [
            "Training [epoch 1/600 | episode 10/10] | (loss=1.91748 | lr=0.000010): 100%|| 10/10 [00:07<00:00,  1.28it/s]\n",
            "Evaluating model: 100%|██████████| 10/10 [00:00<00:00, 23.10it/s]\n"
          ]
        },
        {
          "output_type": "stream",
          "name": "stdout",
          "text": [
            "Epoch: 1 evaluation results: Val_loss: 0.5408618837594986, mAP: 0.9400000000000001, F_score: 0.9387626262626263\n"
          ]
        },
        {
          "output_type": "stream",
          "name": "stderr",
          "text": [
            "Training [epoch 2/600 | episode 10/10] | (loss=1.94358 | lr=0.000001): 100%|| 10/10 [00:07<00:00,  1.28it/s]\n",
            "Evaluating model: 100%|██████████| 10/10 [00:00<00:00, 15.04it/s]\n"
          ]
        },
        {
          "output_type": "stream",
          "name": "stdout",
          "text": [
            "Epoch: 2 evaluation results: Val_loss: 0.4483842492103577, mAP: 0.9800000000000001, F_score: 0.9797979797979798\n"
          ]
        },
        {
          "output_type": "stream",
          "name": "stderr",
          "text": [
            "Training [epoch 3/600 | episode 10/10] | (loss=1.94800 | lr=0.000000): 100%|| 10/10 [00:07<00:00,  1.41it/s]\n",
            "Evaluating model: 100%|██████████| 10/10 [00:00<00:00, 21.55it/s]\n"
          ]
        },
        {
          "output_type": "stream",
          "name": "stdout",
          "text": [
            "Epoch: 3 evaluation results: Val_loss: 0.5131050884723664, mAP: 0.8500000000000002, F_score: 0.8393759018759018\n"
          ]
        },
        {
          "output_type": "stream",
          "name": "stderr",
          "text": [
            "Training [epoch 4/600 | episode 10/10] | (loss=1.93456 | lr=0.000000): 100%|| 10/10 [00:08<00:00,  1.19it/s]\n",
            "Evaluating model: 100%|██████████| 10/10 [00:00<00:00, 22.18it/s]\n"
          ]
        },
        {
          "output_type": "stream",
          "name": "stdout",
          "text": [
            "Epoch: 4 evaluation results: Val_loss: 0.566266056895256, mAP: 0.9100000000000001, F_score: 0.9064269064269064\n"
          ]
        },
        {
          "output_type": "stream",
          "name": "stderr",
          "text": [
            "Training [epoch 5/600 | episode 10/10] | (loss=1.90212 | lr=0.000000): 100%|| 10/10 [00:07<00:00,  1.39it/s]\n",
            "Evaluating model: 100%|██████████| 10/10 [00:00<00:00, 21.33it/s]\n"
          ]
        },
        {
          "output_type": "stream",
          "name": "stdout",
          "text": [
            "Epoch: 5 evaluation results: Val_loss: 0.4722614765167236, mAP: 0.9800000000000001, F_score: 0.9797979797979798\n"
          ]
        },
        {
          "output_type": "stream",
          "name": "stderr",
          "text": [
            "Training [epoch 6/600 | episode 10/10] | (loss=1.97668 | lr=0.000000): 100%|| 10/10 [00:08<00:00,  1.20it/s]\n",
            "Evaluating model: 100%|██████████| 10/10 [00:00<00:00, 22.58it/s]\n"
          ]
        },
        {
          "output_type": "stream",
          "name": "stdout",
          "text": [
            "Epoch: 6 evaluation results: Val_loss: 0.517899340391159, mAP: 0.97, F_score: 0.96989898989899\n"
          ]
        },
        {
          "output_type": "stream",
          "name": "stderr",
          "text": [
            "Training [epoch 7/600 | episode 10/10] | (loss=1.98556 | lr=0.000000): 100%|| 10/10 [00:06<00:00,  1.48it/s]\n",
            "Evaluating model: 100%|██████████| 10/10 [00:00<00:00, 21.30it/s]\n"
          ]
        },
        {
          "output_type": "stream",
          "name": "stdout",
          "text": [
            "Epoch: 7 evaluation results: Val_loss: 0.5389002948999405, mAP: 0.97, F_score: 0.9696969696969695\n"
          ]
        },
        {
          "output_type": "stream",
          "name": "stderr",
          "text": [
            "Training [epoch 8/600 | episode 10/10] | (loss=2.06197 | lr=0.000000): 100%|| 10/10 [00:08<00:00,  1.19it/s]\n",
            "Evaluating model: 100%|██████████| 10/10 [00:00<00:00, 22.25it/s]\n"
          ]
        },
        {
          "output_type": "stream",
          "name": "stdout",
          "text": [
            "Epoch: 8 evaluation results: Val_loss: 0.5658585518598557, mAP: 0.95, F_score: 0.9488636363636364\n"
          ]
        },
        {
          "output_type": "stream",
          "name": "stderr",
          "text": [
            "Training [epoch 9/600 | episode 10/10] | (loss=1.90463 | lr=0.000000): 100%|| 10/10 [00:06<00:00,  1.44it/s]\n",
            "Evaluating model: 100%|██████████| 10/10 [00:00<00:00, 15.20it/s]\n"
          ]
        },
        {
          "output_type": "stream",
          "name": "stdout",
          "text": [
            "Epoch: 9 evaluation results: Val_loss: 0.4970509856939316, mAP: 0.9800000000000001, F_score: 0.9797979797979798\n"
          ]
        },
        {
          "output_type": "stream",
          "name": "stderr",
          "text": [
            "Training [epoch 10/600 | episode 10/10] | (loss=1.92336 | lr=0.000000): 100%|| 10/10 [00:07<00:00,  1.25it/s]\n",
            "Evaluating model: 100%|██████████| 10/10 [00:00<00:00, 22.32it/s]\n"
          ]
        },
        {
          "output_type": "stream",
          "name": "stdout",
          "text": [
            "Epoch: 10 evaluation results: Val_loss: 0.5232661962509155, mAP: 0.9700000000000001, F_score: 0.9696969696969697\n"
          ]
        },
        {
          "output_type": "stream",
          "name": "stderr",
          "text": [
            "Training [epoch 11/600 | episode 10/10] | (loss=1.91398 | lr=0.000000): 100%|| 10/10 [00:07<00:00,  1.29it/s]\n",
            "Evaluating model: 100%|██████████| 10/10 [00:00<00:00, 14.74it/s]\n"
          ]
        },
        {
          "output_type": "stream",
          "name": "stdout",
          "text": [
            "Epoch: 11 evaluation results: Val_loss: 0.46846294701099395, mAP: 0.97, F_score: 0.96989898989899\n"
          ]
        },
        {
          "output_type": "stream",
          "name": "stderr",
          "text": [
            "Training [epoch 12/600 | episode 10/10] | (loss=1.95114 | lr=0.000000): 100%|| 10/10 [00:07<00:00,  1.40it/s]\n",
            "Evaluating model: 100%|██████████| 10/10 [00:00<00:00, 22.14it/s]\n"
          ]
        },
        {
          "output_type": "stream",
          "name": "stdout",
          "text": [
            "Epoch: 12 evaluation results: Val_loss: 0.5257545441389084, mAP: 0.9400000000000001, F_score: 0.9393939393939392\n"
          ]
        },
        {
          "output_type": "stream",
          "name": "stderr",
          "text": [
            "Training [epoch 13/600 | episode 10/10] | (loss=1.94790 | lr=0.000000): 100%|| 10/10 [00:08<00:00,  1.19it/s]\n",
            "Evaluating model: 100%|██████████| 10/10 [00:00<00:00, 22.28it/s]\n"
          ]
        },
        {
          "output_type": "stream",
          "name": "stdout",
          "text": [
            "Epoch: 13 evaluation results: Val_loss: 0.49679525196552277, mAP: 0.9600000000000002, F_score: 0.9589646464646464\n"
          ]
        },
        {
          "output_type": "stream",
          "name": "stderr",
          "text": [
            "Training [epoch 14/600 | episode 10/10] | (loss=1.94862 | lr=0.000000): 100%|| 10/10 [00:06<00:00,  1.47it/s]\n",
            "Evaluating model: 100%|██████████| 10/10 [00:00<00:00, 21.52it/s]\n"
          ]
        },
        {
          "output_type": "stream",
          "name": "stdout",
          "text": [
            "Epoch: 14 evaluation results: Val_loss: 0.5414620399475097, mAP: 0.9199999999999999, F_score: 0.9138639138639137\n"
          ]
        },
        {
          "output_type": "stream",
          "name": "stderr",
          "text": [
            "Training [epoch 15/600 | episode 10/10] | (loss=1.93708 | lr=0.000000): 100%|| 10/10 [00:08<00:00,  1.19it/s]\n",
            "Evaluating model: 100%|██████████| 10/10 [00:00<00:00, 22.11it/s]\n"
          ]
        },
        {
          "output_type": "stream",
          "name": "stdout",
          "text": [
            "Epoch: 15 evaluation results: Val_loss: 0.5238214701414108, mAP: 0.9400000000000002, F_score: 0.9395959595959595\n"
          ]
        },
        {
          "output_type": "stream",
          "name": "stderr",
          "text": [
            "Training [epoch 16/600 | episode 10/10] | (loss=1.99822 | lr=0.000000): 100%|| 10/10 [00:06<00:00,  1.44it/s]\n",
            "Evaluating model: 100%|██████████| 10/10 [00:00<00:00, 21.61it/s]\n"
          ]
        },
        {
          "output_type": "stream",
          "name": "stdout",
          "text": [
            "Epoch: 16 evaluation results: Val_loss: 0.4819440424442291, mAP: 0.99, F_score: 0.98989898989899\n"
          ]
        },
        {
          "output_type": "stream",
          "name": "stderr",
          "text": [
            "Training [epoch 17/600 | episode 10/10] | (loss=1.96993 | lr=0.000000): 100%|| 10/10 [00:08<00:00,  1.21it/s]\n",
            "Evaluating model: 100%|██████████| 10/10 [00:00<00:00, 22.41it/s]\n"
          ]
        },
        {
          "output_type": "stream",
          "name": "stdout",
          "text": [
            "Epoch: 17 evaluation results: Val_loss: 0.5516769617795945, mAP: 0.96, F_score: 0.9595959595959596\n"
          ]
        },
        {
          "output_type": "stream",
          "name": "stderr",
          "text": [
            "Training [epoch 18/600 | episode 10/10] | (loss=1.96358 | lr=0.000000): 100%|| 10/10 [00:06<00:00,  1.45it/s]\n",
            "Evaluating model: 100%|██████████| 10/10 [00:00<00:00, 15.70it/s]\n"
          ]
        },
        {
          "output_type": "stream",
          "name": "stdout",
          "text": [
            "Epoch: 18 evaluation results: Val_loss: 0.4585813879966736, mAP: 0.9800000000000001, F_score: 0.9797979797979798\n"
          ]
        },
        {
          "output_type": "stream",
          "name": "stderr",
          "text": [
            "Training [epoch 19/600 | episode 10/10] | (loss=1.91492 | lr=0.000000): 100%|| 10/10 [00:08<00:00,  1.22it/s]\n",
            "Evaluating model: 100%|██████████| 10/10 [00:00<00:00, 22.26it/s]\n"
          ]
        },
        {
          "output_type": "stream",
          "name": "stdout",
          "text": [
            "Epoch: 19 evaluation results: Val_loss: 0.5170422554016113, mAP: 0.96, F_score: 0.9589646464646464\n"
          ]
        },
        {
          "output_type": "stream",
          "name": "stderr",
          "text": [
            "Training [epoch 20/600 | episode 10/10] | (loss=1.98133 | lr=0.000000): 100%|| 10/10 [00:07<00:00,  1.30it/s]\n",
            "Evaluating model: 100%|██████████| 10/10 [00:00<00:00, 14.61it/s]\n"
          ]
        },
        {
          "output_type": "stream",
          "name": "stdout",
          "text": [
            "Epoch: 20 evaluation results: Val_loss: 0.4889160990715027, mAP: 0.9, F_score: 0.898989898989899\n"
          ]
        },
        {
          "output_type": "stream",
          "name": "stderr",
          "text": [
            "Training [epoch 21/600 | episode 10/10] | (loss=1.95675 | lr=0.000000): 100%|| 10/10 [00:07<00:00,  1.34it/s]\n",
            "Evaluating model: 100%|██████████| 10/10 [00:00<00:00, 21.50it/s]\n"
          ]
        },
        {
          "output_type": "stream",
          "name": "stdout",
          "text": [
            "Epoch: 21 evaluation results: Val_loss: 0.46676749289035796, mAP: 0.9800000000000001, F_score: 0.9800000000000001\n"
          ]
        },
        {
          "output_type": "stream",
          "name": "stderr",
          "text": [
            "Training [epoch 22/600 | episode 10/10] | (loss=1.92108 | lr=0.000000): 100%|| 10/10 [00:08<00:00,  1.22it/s]\n",
            "Evaluating model: 100%|██████████| 10/10 [00:00<00:00, 15.07it/s]\n"
          ]
        },
        {
          "output_type": "stream",
          "name": "stdout",
          "text": [
            "Epoch: 22 evaluation results: Val_loss: 0.48184040784835813, mAP: 0.95, F_score: 0.9488636363636364\n"
          ]
        },
        {
          "output_type": "stream",
          "name": "stderr",
          "text": [
            "Training [epoch 23/600 | episode 10/10] | (loss=1.94627 | lr=0.000000): 100%|| 10/10 [00:06<00:00,  1.48it/s]\n",
            "Evaluating model: 100%|██████████| 10/10 [00:00<00:00, 22.17it/s]\n"
          ]
        },
        {
          "output_type": "stream",
          "name": "stdout",
          "text": [
            "Epoch: 23 evaluation results: Val_loss: 0.5230707406997681, mAP: 0.9800000000000001, F_score: 0.9797979797979799\n"
          ]
        },
        {
          "output_type": "stream",
          "name": "stderr",
          "text": [
            "Training [epoch 24/600 | episode 10/10] | (loss=2.04137 | lr=0.000000): 100%|| 10/10 [00:08<00:00,  1.19it/s]\n",
            "Evaluating model: 100%|██████████| 10/10 [00:00<00:00, 21.47it/s]\n"
          ]
        },
        {
          "output_type": "stream",
          "name": "stdout",
          "text": [
            "Epoch: 24 evaluation results: Val_loss: 0.5075835764408112, mAP: 0.9400000000000001, F_score: 0.9395959595959595\n"
          ]
        },
        {
          "output_type": "stream",
          "name": "stderr",
          "text": [
            "Training [epoch 25/600 | episode 10/10] | (loss=1.95851 | lr=0.000000): 100%|| 10/10 [00:06<00:00,  1.48it/s]\n",
            "Evaluating model: 100%|██████████| 10/10 [00:00<00:00, 21.38it/s]\n"
          ]
        },
        {
          "output_type": "stream",
          "name": "stdout",
          "text": [
            "Epoch: 25 evaluation results: Val_loss: 0.52904232442379, mAP: 0.93, F_score: 0.9288636363636362\n"
          ]
        },
        {
          "output_type": "stream",
          "name": "stderr",
          "text": [
            "Training [epoch 26/600 | episode 10/10] | (loss=1.94234 | lr=0.000000): 100%|| 10/10 [00:08<00:00,  1.19it/s]\n",
            "Evaluating model: 100%|██████████| 10/10 [00:00<00:00, 22.70it/s]\n"
          ]
        },
        {
          "output_type": "stream",
          "name": "stdout",
          "text": [
            "Epoch: 26 evaluation results: Val_loss: 0.48661789298057556, mAP: 1.0, F_score: 1.0\n"
          ]
        },
        {
          "output_type": "stream",
          "name": "stderr",
          "text": [
            "Training [epoch 27/600 | episode 10/10] | (loss=1.95434 | lr=0.000000): 100%|| 10/10 [00:06<00:00,  1.47it/s]\n",
            "Evaluating model: 100%|██████████| 10/10 [00:00<00:00, 21.82it/s]\n"
          ]
        },
        {
          "output_type": "stream",
          "name": "stdout",
          "text": [
            "Epoch: 27 evaluation results: Val_loss: 0.5795679211616516, mAP: 0.93, F_score: 0.9288636363636364\n"
          ]
        },
        {
          "output_type": "stream",
          "name": "stderr",
          "text": [
            "Training [epoch 28/600 | episode 10/10] | (loss=1.93762 | lr=0.000000): 100%|| 10/10 [00:08<00:00,  1.19it/s]\n",
            "Evaluating model: 100%|██████████| 10/10 [00:00<00:00, 23.15it/s]\n"
          ]
        },
        {
          "output_type": "stream",
          "name": "stdout",
          "text": [
            "Epoch: 28 evaluation results: Val_loss: 0.5293107897043228, mAP: 0.9400000000000001, F_score: 0.9387626262626263\n"
          ]
        },
        {
          "output_type": "stream",
          "name": "stderr",
          "text": [
            "Training [epoch 29/600 | episode 10/10] | (loss=1.98536 | lr=0.000000): 100%|| 10/10 [00:06<00:00,  1.44it/s]\n",
            "Evaluating model: 100%|██████████| 10/10 [00:00<00:00, 14.48it/s]\n"
          ]
        },
        {
          "output_type": "stream",
          "name": "stdout",
          "text": [
            "Epoch: 29 evaluation results: Val_loss: 0.5014886856079102, mAP: 0.9400000000000001, F_score: 0.9381313131313131\n"
          ]
        },
        {
          "output_type": "stream",
          "name": "stderr",
          "text": [
            "Training [epoch 30/600 | episode 10/10] | (loss=1.90842 | lr=0.000000): 100%|| 10/10 [00:08<00:00,  1.25it/s]\n",
            "Evaluating model: 100%|██████████| 10/10 [00:00<00:00, 21.75it/s]\n"
          ]
        },
        {
          "output_type": "stream",
          "name": "stdout",
          "text": [
            "Epoch: 30 evaluation results: Val_loss: 0.4691449761390686, mAP: 0.9800000000000001, F_score: 0.9791666666666666\n"
          ]
        },
        {
          "output_type": "stream",
          "name": "stderr",
          "text": [
            "Training [epoch 31/600 | episode 10/10] | (loss=1.94651 | lr=0.000000): 100%|| 10/10 [00:07<00:00,  1.27it/s]\n",
            "Evaluating model: 100%|██████████| 10/10 [00:00<00:00, 14.83it/s]\n"
          ]
        },
        {
          "output_type": "stream",
          "name": "stdout",
          "text": [
            "Epoch: 31 evaluation results: Val_loss: 0.5214932799339295, mAP: 0.9400000000000001, F_score: 0.9387626262626263\n"
          ]
        },
        {
          "output_type": "stream",
          "name": "stderr",
          "text": [
            "Training [epoch 32/600 | episode 10/10] | (loss=1.99631 | lr=0.000000): 100%|| 10/10 [00:07<00:00,  1.39it/s]\n",
            "Evaluating model: 100%|██████████| 10/10 [00:00<00:00, 22.09it/s]\n"
          ]
        },
        {
          "output_type": "stream",
          "name": "stdout",
          "text": [
            "Epoch: 32 evaluation results: Val_loss: 0.5020945876836777, mAP: 0.95, F_score: 0.9496969696969696\n"
          ]
        },
        {
          "output_type": "stream",
          "name": "stderr",
          "text": [
            "Training [epoch 33/600 | episode 10/10] | (loss=1.96823 | lr=0.000000): 100%|| 10/10 [00:08<00:00,  1.19it/s]\n",
            "Evaluating model: 100%|██████████| 10/10 [00:00<00:00, 23.02it/s]\n"
          ]
        },
        {
          "output_type": "stream",
          "name": "stdout",
          "text": [
            "Epoch: 33 evaluation results: Val_loss: 0.49730047583580017, mAP: 0.9400000000000001, F_score: 0.9395959595959595\n"
          ]
        },
        {
          "output_type": "stream",
          "name": "stderr",
          "text": [
            "Training [epoch 34/600 | episode 10/10] | (loss=1.92115 | lr=0.000000): 100%|| 10/10 [00:07<00:00,  1.42it/s]\n",
            "Evaluating model: 100%|██████████| 10/10 [00:00<00:00, 21.44it/s]\n"
          ]
        },
        {
          "output_type": "stream",
          "name": "stdout",
          "text": [
            "Epoch: 34 evaluation results: Val_loss: 0.5111254215240478, mAP: 0.9400000000000001, F_score: 0.9387626262626263\n"
          ]
        },
        {
          "output_type": "stream",
          "name": "stderr",
          "text": [
            "Training [epoch 35/600 | episode 10/10] | (loss=2.00593 | lr=0.000000): 100%|| 10/10 [00:08<00:00,  1.17it/s]\n",
            "Evaluating model: 100%|██████████| 10/10 [00:00<00:00, 22.55it/s]\n"
          ]
        },
        {
          "output_type": "stream",
          "name": "stdout",
          "text": [
            "Epoch: 35 evaluation results: Val_loss: 0.4730504065752029, mAP: 0.9800000000000001, F_score: 0.9797979797979799\n"
          ]
        },
        {
          "output_type": "stream",
          "name": "stderr",
          "text": [
            "Training [epoch 36/600 | episode 10/10] | (loss=1.98520 | lr=0.000000): 100%|| 10/10 [00:06<00:00,  1.46it/s]\n",
            "Evaluating model: 100%|██████████| 10/10 [00:00<00:00, 22.13it/s]\n"
          ]
        },
        {
          "output_type": "stream",
          "name": "stdout",
          "text": [
            "Epoch: 36 evaluation results: Val_loss: 0.5358959972858429, mAP: 0.97, F_score: 0.9670329670329672\n"
          ]
        },
        {
          "output_type": "stream",
          "name": "stderr",
          "text": [
            "Training [epoch 37/600 | episode 10/10] | (loss=1.99014 | lr=0.000000): 100%|| 10/10 [00:08<00:00,  1.20it/s]\n",
            "Evaluating model: 100%|██████████| 10/10 [00:00<00:00, 22.44it/s]\n"
          ]
        },
        {
          "output_type": "stream",
          "name": "stdout",
          "text": [
            "Epoch: 37 evaluation results: Val_loss: 0.5543360263109207, mAP: 0.9, F_score: 0.898989898989899\n"
          ]
        },
        {
          "output_type": "stream",
          "name": "stderr",
          "text": [
            "Training [epoch 38/600 | episode 10/10] | (loss=1.98955 | lr=0.000000): 100%|| 10/10 [00:07<00:00,  1.33it/s]\n",
            "Evaluating model: 100%|██████████| 10/10 [00:00<00:00, 14.62it/s]\n"
          ]
        },
        {
          "output_type": "stream",
          "name": "stdout",
          "text": [
            "Epoch: 38 evaluation results: Val_loss: 0.5248523712158203, mAP: 0.9800000000000001, F_score: 0.9797979797979798\n"
          ]
        },
        {
          "output_type": "stream",
          "name": "stderr",
          "text": [
            "Training [epoch 39/600 | episode 10/10] | (loss=1.99002 | lr=0.000000): 100%|| 10/10 [00:07<00:00,  1.30it/s]\n",
            "Evaluating model: 100%|██████████| 10/10 [00:00<00:00, 22.10it/s]\n"
          ]
        },
        {
          "output_type": "stream",
          "name": "stdout",
          "text": [
            "Epoch: 39 evaluation results: Val_loss: 0.5586858779191971, mAP: 0.96, F_score: 0.9583333333333333\n"
          ]
        },
        {
          "output_type": "stream",
          "name": "stderr",
          "text": [
            "Training [epoch 40/600 | episode 10/10] | (loss=1.95803 | lr=0.000000): 100%|| 10/10 [00:07<00:00,  1.29it/s]\n",
            "Evaluating model: 100%|██████████| 10/10 [00:00<00:00, 14.75it/s]\n"
          ]
        },
        {
          "output_type": "stream",
          "name": "stdout",
          "text": [
            "Epoch: 40 evaluation results: Val_loss: 0.47753011882305146, mAP: 0.95, F_score: 0.9494949494949495\n"
          ]
        },
        {
          "output_type": "stream",
          "name": "stderr",
          "text": [
            "Training [epoch 41/600 | episode 10/10] | (loss=1.96889 | lr=0.000000): 100%|| 10/10 [00:07<00:00,  1.40it/s]\n",
            "Evaluating model: 100%|██████████| 10/10 [00:00<00:00, 22.92it/s]\n"
          ]
        },
        {
          "output_type": "stream",
          "name": "stdout",
          "text": [
            "Epoch: 41 evaluation results: Val_loss: 0.5562027841806412, mAP: 0.93, F_score: 0.9294949494949496\n"
          ]
        },
        {
          "output_type": "stream",
          "name": "stderr",
          "text": [
            "Training [epoch 42/600 | episode 10/10] | (loss=1.92791 | lr=0.000000): 100%|| 10/10 [00:08<00:00,  1.20it/s]\n",
            "Evaluating model: 100%|██████████| 10/10 [00:00<00:00, 21.97it/s]\n"
          ]
        },
        {
          "output_type": "stream",
          "name": "stdout",
          "text": [
            "Epoch: 42 evaluation results: Val_loss: 0.43259216845035553, mAP: 0.99, F_score: 0.98989898989899\n"
          ]
        },
        {
          "output_type": "stream",
          "name": "stderr",
          "text": [
            "Training [epoch 43/600 | episode 10/10] | (loss=1.88896 | lr=0.000000): 100%|| 10/10 [00:06<00:00,  1.45it/s]\n",
            "Evaluating model: 100%|██████████| 10/10 [00:00<00:00, 23.48it/s]\n"
          ]
        },
        {
          "output_type": "stream",
          "name": "stdout",
          "text": [
            "Epoch: 43 evaluation results: Val_loss: 0.4559728354215622, mAP: 0.99, F_score: 0.98989898989899\n"
          ]
        },
        {
          "output_type": "stream",
          "name": "stderr",
          "text": [
            "Training [epoch 44/600 | episode 10/10] | (loss=1.95382 | lr=0.000000): 100%|| 10/10 [00:08<00:00,  1.19it/s]\n",
            "Evaluating model: 100%|██████████| 10/10 [00:00<00:00, 22.61it/s]\n"
          ]
        },
        {
          "output_type": "stream",
          "name": "stdout",
          "text": [
            "Epoch: 44 evaluation results: Val_loss: 0.5180678218603134, mAP: 0.95, F_score: 0.9488636363636364\n"
          ]
        },
        {
          "output_type": "stream",
          "name": "stderr",
          "text": [
            "Training [epoch 45/600 | episode 10/10] | (loss=1.95372 | lr=0.000000): 100%|| 10/10 [00:06<00:00,  1.50it/s]\n",
            "Evaluating model: 100%|██████████| 10/10 [00:00<00:00, 22.92it/s]\n"
          ]
        },
        {
          "output_type": "stream",
          "name": "stdout",
          "text": [
            "Epoch: 45 evaluation results: Val_loss: 0.5186253011226654, mAP: 0.9700000000000001, F_score: 0.9696969696969697\n"
          ]
        },
        {
          "output_type": "stream",
          "name": "stderr",
          "text": [
            "Training [epoch 46/600 | episode 10/10] | (loss=1.91345 | lr=0.000000): 100%|| 10/10 [00:08<00:00,  1.21it/s]\n",
            "Evaluating model: 100%|██████████| 10/10 [00:00<00:00, 21.64it/s]\n"
          ]
        },
        {
          "output_type": "stream",
          "name": "stdout",
          "text": [
            "Epoch: 46 evaluation results: Val_loss: 0.5049667119979858, mAP: 1.0, F_score: 1.0\n"
          ]
        },
        {
          "output_type": "stream",
          "name": "stderr",
          "text": [
            "Training [epoch 47/600 | episode 10/10] | (loss=1.95977 | lr=0.000000): 100%|| 10/10 [00:06<00:00,  1.47it/s]\n",
            "Evaluating model: 100%|██████████| 10/10 [00:00<00:00, 14.88it/s]\n"
          ]
        },
        {
          "output_type": "stream",
          "name": "stdout",
          "text": [
            "Epoch: 47 evaluation results: Val_loss: 0.55936399102211, mAP: 0.8699999999999999, F_score: 0.8676262626262625\n"
          ]
        },
        {
          "output_type": "stream",
          "name": "stderr",
          "text": [
            "Training [epoch 48/600 | episode 10/10] | (loss=1.94710 | lr=0.000000): 100%|| 10/10 [00:08<00:00,  1.23it/s]\n",
            "Evaluating model: 100%|██████████| 10/10 [00:00<00:00, 22.42it/s]\n"
          ]
        },
        {
          "output_type": "stream",
          "name": "stdout",
          "text": [
            "Epoch: 48 evaluation results: Val_loss: 0.5327414482831955, mAP: 0.9500000000000002, F_score: 0.9482323232323232\n"
          ]
        },
        {
          "output_type": "stream",
          "name": "stderr",
          "text": [
            "Training [epoch 49/600 | episode 10/10] | (loss=1.95723 | lr=0.000000): 100%|| 10/10 [00:07<00:00,  1.34it/s]\n",
            "Evaluating model: 100%|██████████| 10/10 [00:00<00:00, 15.09it/s]\n"
          ]
        },
        {
          "output_type": "stream",
          "name": "stdout",
          "text": [
            "Epoch: 49 evaluation results: Val_loss: 0.45085087716579436, mAP: 0.99, F_score: 0.98989898989899\n"
          ]
        },
        {
          "output_type": "stream",
          "name": "stderr",
          "text": [
            "Training [epoch 50/600 | episode 10/10] | (loss=1.90970 | lr=0.000000): 100%|| 10/10 [00:07<00:00,  1.35it/s]\n",
            "Evaluating model: 100%|██████████| 10/10 [00:00<00:00, 22.83it/s]\n"
          ]
        },
        {
          "output_type": "stream",
          "name": "stdout",
          "text": [
            "Epoch: 50 evaluation results: Val_loss: 0.5028166532516479, mAP: 0.96, F_score: 0.9595959595959596\n"
          ]
        },
        {
          "output_type": "stream",
          "name": "stderr",
          "text": [
            "Training [epoch 51/600 | episode 10/10] | (loss=1.95294 | lr=0.000000): 100%|| 10/10 [00:07<00:00,  1.26it/s]\n",
            "Evaluating model: 100%|██████████| 10/10 [00:00<00:00, 15.80it/s]\n"
          ]
        },
        {
          "output_type": "stream",
          "name": "stdout",
          "text": [
            "Epoch: 51 evaluation results: Val_loss: 0.5103143125772476, mAP: 0.9400000000000001, F_score: 0.9321789321789321\n"
          ]
        },
        {
          "output_type": "stream",
          "name": "stderr",
          "text": [
            "Training [epoch 52/600 | episode 10/10] | (loss=1.95422 | lr=0.000000): 100%|| 10/10 [00:06<00:00,  1.45it/s]\n",
            "Evaluating model: 100%|██████████| 10/10 [00:00<00:00, 21.82it/s]\n"
          ]
        },
        {
          "output_type": "stream",
          "name": "stdout",
          "text": [
            "Epoch: 52 evaluation results: Val_loss: 0.563914743065834, mAP: 0.97, F_score: 0.9696969696969695\n"
          ]
        },
        {
          "output_type": "stream",
          "name": "stderr",
          "text": [
            "Training [epoch 53/600 | episode 10/10] | (loss=1.93142 | lr=0.000000): 100%|| 10/10 [00:08<00:00,  1.21it/s]\n",
            "Evaluating model: 100%|██████████| 10/10 [00:00<00:00, 22.33it/s]\n"
          ]
        },
        {
          "output_type": "stream",
          "name": "stdout",
          "text": [
            "Epoch: 53 evaluation results: Val_loss: 0.5760683059692383, mAP: 0.9199999999999999, F_score: 0.9197979797979798\n"
          ]
        },
        {
          "output_type": "stream",
          "name": "stderr",
          "text": [
            "Training [epoch 54/600 | episode 10/10] | (loss=1.91898 | lr=0.000000): 100%|| 10/10 [00:06<00:00,  1.44it/s]\n",
            "Evaluating model: 100%|██████████| 10/10 [00:00<00:00, 21.77it/s]\n"
          ]
        },
        {
          "output_type": "stream",
          "name": "stdout",
          "text": [
            "Epoch: 54 evaluation results: Val_loss: 0.5241633087396622, mAP: 0.95, F_score: 0.9496969696969696\n"
          ]
        },
        {
          "output_type": "stream",
          "name": "stderr",
          "text": [
            "Training [epoch 55/600 | episode 10/10] | (loss=1.98334 | lr=0.000000): 100%|| 10/10 [00:08<00:00,  1.20it/s]\n",
            "Evaluating model: 100%|██████████| 10/10 [00:00<00:00, 22.81it/s]\n"
          ]
        },
        {
          "output_type": "stream",
          "name": "stdout",
          "text": [
            "Epoch: 55 evaluation results: Val_loss: 0.462954106926918, mAP: 0.99, F_score: 0.98989898989899\n"
          ]
        },
        {
          "output_type": "stream",
          "name": "stderr",
          "text": [
            "Training [epoch 56/600 | episode 10/10] | (loss=2.00876 | lr=0.000000): 100%|| 10/10 [00:06<00:00,  1.45it/s]\n",
            "Evaluating model: 100%|██████████| 10/10 [00:00<00:00, 21.78it/s]\n"
          ]
        },
        {
          "output_type": "stream",
          "name": "stdout",
          "text": [
            "Epoch: 56 evaluation results: Val_loss: 0.512092387676239, mAP: 0.93, F_score: 0.922077922077922\n"
          ]
        },
        {
          "output_type": "stream",
          "name": "stderr",
          "text": [
            "Training [epoch 57/600 | episode 10/10] | (loss=1.94475 | lr=0.000000): 100%|| 10/10 [00:08<00:00,  1.20it/s]\n",
            "Evaluating model: 100%|██████████| 10/10 [00:00<00:00, 21.53it/s]\n"
          ]
        },
        {
          "output_type": "stream",
          "name": "stdout",
          "text": [
            "Epoch: 57 evaluation results: Val_loss: 0.5512785881757736, mAP: 0.93, F_score: 0.9298989898989898\n"
          ]
        },
        {
          "output_type": "stream",
          "name": "stderr",
          "text": [
            "Training [epoch 58/600 | episode 10/10] | (loss=1.95887 | lr=0.000000): 100%|| 10/10 [00:07<00:00,  1.36it/s]\n",
            "Evaluating model: 100%|██████████| 10/10 [00:00<00:00, 14.64it/s]\n"
          ]
        },
        {
          "output_type": "stream",
          "name": "stdout",
          "text": [
            "Epoch: 58 evaluation results: Val_loss: 0.5078680127859115, mAP: 0.93, F_score: 0.928030303030303\n"
          ]
        },
        {
          "output_type": "stream",
          "name": "stderr",
          "text": [
            "Training [epoch 59/600 | episode 10/10] | (loss=1.96655 | lr=0.000000): 100%|| 10/10 [00:07<00:00,  1.29it/s]\n",
            "Evaluating model: 100%|██████████| 10/10 [00:00<00:00, 22.30it/s]\n"
          ]
        },
        {
          "output_type": "stream",
          "name": "stdout",
          "text": [
            "Epoch: 59 evaluation results: Val_loss: 0.5756541162729263, mAP: 0.93, F_score: 0.928030303030303\n"
          ]
        },
        {
          "output_type": "stream",
          "name": "stderr",
          "text": [
            "Training [epoch 60/600 | episode 10/10] | (loss=2.02080 | lr=0.000000): 100%|| 10/10 [00:07<00:00,  1.26it/s]\n",
            "Evaluating model: 100%|██████████| 10/10 [00:00<00:00, 14.27it/s]\n"
          ]
        },
        {
          "output_type": "stream",
          "name": "stdout",
          "text": [
            "Epoch: 60 evaluation results: Val_loss: 0.5391901433467865, mAP: 0.95, F_score: 0.9494949494949495\n"
          ]
        },
        {
          "output_type": "stream",
          "name": "stderr",
          "text": [
            "Training [epoch 61/600 | episode 10/10] | (loss=1.95118 | lr=0.000000): 100%|| 10/10 [00:07<00:00,  1.43it/s]\n",
            "Evaluating model: 100%|██████████| 10/10 [00:00<00:00, 21.69it/s]\n"
          ]
        },
        {
          "output_type": "stream",
          "name": "stdout",
          "text": [
            "Epoch: 61 evaluation results: Val_loss: 0.49289312660694123, mAP: 0.99, F_score: 0.98989898989899\n"
          ]
        },
        {
          "output_type": "stream",
          "name": "stderr",
          "text": [
            "Training [epoch 62/600 | episode 10/10] | (loss=1.91849 | lr=0.000000): 100%|| 10/10 [00:08<00:00,  1.19it/s]\n",
            "Evaluating model: 100%|██████████| 10/10 [00:00<00:00, 21.51it/s]\n"
          ]
        },
        {
          "output_type": "stream",
          "name": "stdout",
          "text": [
            "Epoch: 62 evaluation results: Val_loss: 0.5137720942497254, mAP: 0.9700000000000001, F_score: 0.9696969696969697\n"
          ]
        },
        {
          "output_type": "stream",
          "name": "stderr",
          "text": [
            "Training [epoch 63/600 | episode 10/10] | (loss=1.91628 | lr=0.000000): 100%|| 10/10 [00:06<00:00,  1.47it/s]\n",
            "Evaluating model: 100%|██████████| 10/10 [00:00<00:00, 22.59it/s]\n"
          ]
        },
        {
          "output_type": "stream",
          "name": "stdout",
          "text": [
            "Epoch: 63 evaluation results: Val_loss: 0.4954911947250366, mAP: 0.97, F_score: 0.9698989898989898\n"
          ]
        },
        {
          "output_type": "stream",
          "name": "stderr",
          "text": [
            "Training [epoch 64/600 | episode 10/10] | (loss=1.93488 | lr=0.000000): 100%|| 10/10 [00:08<00:00,  1.19it/s]\n",
            "Evaluating model: 100%|██████████| 10/10 [00:00<00:00, 21.76it/s]\n"
          ]
        },
        {
          "output_type": "stream",
          "name": "stdout",
          "text": [
            "Epoch: 64 evaluation results: Val_loss: 0.5033336699008941, mAP: 0.97, F_score: 0.9696969696969697\n"
          ]
        },
        {
          "output_type": "stream",
          "name": "stderr",
          "text": [
            "Training [epoch 65/600 | episode 10/10] | (loss=1.99396 | lr=0.000000): 100%|| 10/10 [00:06<00:00,  1.45it/s]\n",
            "Evaluating model: 100%|██████████| 10/10 [00:00<00:00, 21.92it/s]\n"
          ]
        },
        {
          "output_type": "stream",
          "name": "stdout",
          "text": [
            "Epoch: 65 evaluation results: Val_loss: 0.4432174861431122, mAP: 0.99, F_score: 0.98989898989899\n"
          ]
        },
        {
          "output_type": "stream",
          "name": "stderr",
          "text": [
            "Training [epoch 66/600 | episode 10/10] | (loss=1.94578 | lr=0.000000): 100%|| 10/10 [00:08<00:00,  1.18it/s]\n",
            "Evaluating model: 100%|██████████| 10/10 [00:00<00:00, 21.56it/s]\n"
          ]
        },
        {
          "output_type": "stream",
          "name": "stdout",
          "text": [
            "Epoch: 66 evaluation results: Val_loss: 0.5022765606641769, mAP: 0.9400000000000002, F_score: 0.9381313131313129\n"
          ]
        },
        {
          "output_type": "stream",
          "name": "stderr",
          "text": [
            "Training [epoch 67/600 | episode 10/10] | (loss=1.95383 | lr=0.000000): 100%|| 10/10 [00:07<00:00,  1.36it/s]\n",
            "Evaluating model: 100%|██████████| 10/10 [00:00<00:00, 14.44it/s]\n"
          ]
        },
        {
          "output_type": "stream",
          "name": "stdout",
          "text": [
            "Epoch: 67 evaluation results: Val_loss: 0.5334685206413269, mAP: 0.9400000000000001, F_score: 0.9387626262626261\n"
          ]
        },
        {
          "output_type": "stream",
          "name": "stderr",
          "text": [
            "Training [epoch 68/600 | episode 10/10] | (loss=2.00848 | lr=0.000000): 100%|| 10/10 [00:07<00:00,  1.29it/s]\n",
            "Evaluating model: 100%|██████████| 10/10 [00:00<00:00, 23.10it/s]\n"
          ]
        },
        {
          "output_type": "stream",
          "name": "stdout",
          "text": [
            "Epoch: 68 evaluation results: Val_loss: 0.5498010158538819, mAP: 0.97, F_score: 0.9698989898989898\n"
          ]
        },
        {
          "output_type": "stream",
          "name": "stderr",
          "text": [
            "Training [epoch 69/600 | episode 10/10] | (loss=1.92534 | lr=0.000000): 100%|| 10/10 [00:07<00:00,  1.28it/s]\n",
            "Evaluating model: 100%|██████████| 10/10 [00:00<00:00, 14.90it/s]\n"
          ]
        },
        {
          "output_type": "stream",
          "name": "stdout",
          "text": [
            "Epoch: 69 evaluation results: Val_loss: 0.5002743095159531, mAP: 0.9400000000000001, F_score: 0.9349539349539351\n"
          ]
        },
        {
          "output_type": "stream",
          "name": "stderr",
          "text": [
            "Training [epoch 70/600 | episode 10/10] | (loss=1.90005 | lr=0.000000): 100%|| 10/10 [00:07<00:00,  1.39it/s]\n",
            "Evaluating model: 100%|██████████| 10/10 [00:00<00:00, 22.19it/s]\n"
          ]
        },
        {
          "output_type": "stream",
          "name": "stdout",
          "text": [
            "Epoch: 70 evaluation results: Val_loss: 0.5027025312185287, mAP: 0.9400000000000001, F_score: 0.9367299367299367\n"
          ]
        },
        {
          "output_type": "stream",
          "name": "stderr",
          "text": [
            "Training [epoch 71/600 | episode 10/10] | (loss=1.99676 | lr=0.000000): 100%|| 10/10 [00:08<00:00,  1.19it/s]\n",
            "Evaluating model: 100%|██████████| 10/10 [00:00<00:00, 22.73it/s]\n"
          ]
        },
        {
          "output_type": "stream",
          "name": "stdout",
          "text": [
            "Epoch: 71 evaluation results: Val_loss: 0.5070907384157181, mAP: 0.9400000000000001, F_score: 0.9387626262626263\n"
          ]
        },
        {
          "output_type": "stream",
          "name": "stderr",
          "text": [
            "Training [epoch 72/600 | episode 10/10] | (loss=2.03430 | lr=0.000000): 100%|| 10/10 [00:06<00:00,  1.46it/s]\n",
            "Evaluating model: 100%|██████████| 10/10 [00:00<00:00, 20.85it/s]\n"
          ]
        },
        {
          "output_type": "stream",
          "name": "stdout",
          "text": [
            "Epoch: 72 evaluation results: Val_loss: 0.4675608426332474, mAP: 0.96, F_score: 0.9589646464646465\n"
          ]
        },
        {
          "output_type": "stream",
          "name": "stderr",
          "text": [
            "Training [epoch 73/600 | episode 10/10] | (loss=1.95682 | lr=0.000000): 100%|| 10/10 [00:08<00:00,  1.21it/s]\n",
            "Evaluating model: 100%|██████████| 10/10 [00:00<00:00, 22.72it/s]\n"
          ]
        },
        {
          "output_type": "stream",
          "name": "stdout",
          "text": [
            "Epoch: 73 evaluation results: Val_loss: 0.5811484903097153, mAP: 0.93, F_score: 0.928030303030303\n"
          ]
        },
        {
          "output_type": "stream",
          "name": "stderr",
          "text": [
            "Training [epoch 74/600 | episode 10/10] | (loss=1.93114 | lr=0.000000): 100%|| 10/10 [00:06<00:00,  1.46it/s]\n",
            "Evaluating model: 100%|██████████| 10/10 [00:00<00:00, 21.20it/s]\n"
          ]
        },
        {
          "output_type": "stream",
          "name": "stdout",
          "text": [
            "Epoch: 74 evaluation results: Val_loss: 0.5041431039571762, mAP: 1.0, F_score: 1.0\n"
          ]
        },
        {
          "output_type": "stream",
          "name": "stderr",
          "text": [
            "Training [epoch 75/600 | episode 10/10] | (loss=1.97883 | lr=0.000000): 100%|| 10/10 [00:08<00:00,  1.20it/s]\n",
            "Evaluating model: 100%|██████████| 10/10 [00:00<00:00, 21.05it/s]\n"
          ]
        },
        {
          "output_type": "stream",
          "name": "stdout",
          "text": [
            "Epoch: 75 evaluation results: Val_loss: 0.5186749696731567, mAP: 0.8800000000000001, F_score: 0.8630952380952379\n"
          ]
        },
        {
          "output_type": "stream",
          "name": "stderr",
          "text": [
            "Training [epoch 76/600 | episode 10/10] | (loss=1.94122 | lr=0.000000): 100%|| 10/10 [00:07<00:00,  1.40it/s]\n",
            "Evaluating model: 100%|██████████| 10/10 [00:00<00:00, 14.50it/s]\n"
          ]
        },
        {
          "output_type": "stream",
          "name": "stdout",
          "text": [
            "Epoch: 76 evaluation results: Val_loss: 0.4963499277830124, mAP: 0.9700000000000001, F_score: 0.9690656565656566\n"
          ]
        },
        {
          "output_type": "stream",
          "name": "stderr",
          "text": [
            "Training [epoch 77/600 | episode 10/10] | (loss=1.89413 | lr=0.000000): 100%|| 10/10 [00:08<00:00,  1.24it/s]\n",
            "Evaluating model: 100%|██████████| 10/10 [00:00<00:00, 22.67it/s]\n"
          ]
        },
        {
          "output_type": "stream",
          "name": "stdout",
          "text": [
            "Epoch: 77 evaluation results: Val_loss: 0.5266934245824814, mAP: 0.93, F_score: 0.9294949494949496\n"
          ]
        },
        {
          "output_type": "stream",
          "name": "stderr",
          "text": [
            "Training [epoch 78/600 | episode 10/10] | (loss=1.95593 | lr=0.000000): 100%|| 10/10 [00:07<00:00,  1.28it/s]\n",
            "Evaluating model: 100%|██████████| 10/10 [00:00<00:00, 14.40it/s]\n"
          ]
        },
        {
          "output_type": "stream",
          "name": "stdout",
          "text": [
            "Epoch: 78 evaluation results: Val_loss: 0.588520273566246, mAP: 0.93, F_score: 0.9294949494949496\n"
          ]
        },
        {
          "output_type": "stream",
          "name": "stderr",
          "text": [
            "Training [epoch 79/600 | episode 10/10] | (loss=1.93706 | lr=0.000000): 100%|| 10/10 [00:07<00:00,  1.37it/s]\n",
            "Evaluating model: 100%|██████████| 10/10 [00:00<00:00, 22.82it/s]\n"
          ]
        },
        {
          "output_type": "stream",
          "name": "stdout",
          "text": [
            "Epoch: 79 evaluation results: Val_loss: 0.5386366009712219, mAP: 0.9400000000000001, F_score: 0.9393939393939394\n"
          ]
        },
        {
          "output_type": "stream",
          "name": "stderr",
          "text": [
            "Training [epoch 80/600 | episode 10/10] | (loss=1.91382 | lr=0.000000): 100%|| 10/10 [00:08<00:00,  1.19it/s]\n",
            "Evaluating model: 100%|██████████| 10/10 [00:00<00:00, 21.28it/s]\n"
          ]
        },
        {
          "output_type": "stream",
          "name": "stdout",
          "text": [
            "Epoch: 80 evaluation results: Val_loss: 0.520019581913948, mAP: 0.9500000000000002, F_score: 0.9482323232323232\n"
          ]
        },
        {
          "output_type": "stream",
          "name": "stderr",
          "text": [
            "Training [epoch 81/600 | episode 10/10] | (loss=1.95120 | lr=0.000000): 100%|| 10/10 [00:06<00:00,  1.44it/s]\n",
            "Evaluating model: 100%|██████████| 10/10 [00:00<00:00, 21.49it/s]\n"
          ]
        },
        {
          "output_type": "stream",
          "name": "stdout",
          "text": [
            "Epoch: 81 evaluation results: Val_loss: 0.5106657773256302, mAP: 0.9600000000000002, F_score: 0.9597979797979799\n"
          ]
        },
        {
          "output_type": "stream",
          "name": "stderr",
          "text": [
            "Training [epoch 82/600 | episode 10/10] | (loss=1.96687 | lr=0.000000): 100%|| 10/10 [00:08<00:00,  1.18it/s]\n",
            "Evaluating model: 100%|██████████| 10/10 [00:00<00:00, 21.26it/s]\n"
          ]
        },
        {
          "output_type": "stream",
          "name": "stdout",
          "text": [
            "Epoch: 82 evaluation results: Val_loss: 0.5337373644113541, mAP: 0.9800000000000001, F_score: 0.9797979797979798\n"
          ]
        },
        {
          "output_type": "stream",
          "name": "stderr",
          "text": [
            "Training [epoch 83/600 | episode 10/10] | (loss=1.95311 | lr=0.000000): 100%|| 10/10 [00:06<00:00,  1.45it/s]\n",
            "Evaluating model: 100%|██████████| 10/10 [00:00<00:00, 22.60it/s]\n"
          ]
        },
        {
          "output_type": "stream",
          "name": "stdout",
          "text": [
            "Epoch: 83 evaluation results: Val_loss: 0.5509566843509675, mAP: 0.96, F_score: 0.9589646464646464\n"
          ]
        },
        {
          "output_type": "stream",
          "name": "stderr",
          "text": [
            "Training [epoch 84/600 | episode 10/10] | (loss=1.99782 | lr=0.000000): 100%|| 10/10 [00:08<00:00,  1.18it/s]\n",
            "Evaluating model: 100%|██████████| 10/10 [00:00<00:00, 22.23it/s]\n"
          ]
        },
        {
          "output_type": "stream",
          "name": "stdout",
          "text": [
            "Epoch: 84 evaluation results: Val_loss: 0.4847199559211731, mAP: 0.9700000000000001, F_score: 0.9696969696969695\n"
          ]
        },
        {
          "output_type": "stream",
          "name": "stderr",
          "text": [
            "Training [epoch 85/600 | episode 10/10] | (loss=2.00130 | lr=0.000000): 100%|| 10/10 [00:06<00:00,  1.43it/s]\n",
            "Evaluating model: 100%|██████████| 10/10 [00:00<00:00, 14.97it/s]\n"
          ]
        },
        {
          "output_type": "stream",
          "name": "stdout",
          "text": [
            "Epoch: 85 evaluation results: Val_loss: 0.5744674593210221, mAP: 0.9200000000000002, F_score: 0.9195959595959595\n"
          ]
        },
        {
          "output_type": "stream",
          "name": "stderr",
          "text": [
            "Training [epoch 86/600 | episode 10/10] | (loss=1.92237 | lr=0.000000): 100%|| 10/10 [00:08<00:00,  1.24it/s]\n",
            "Evaluating model: 100%|██████████| 10/10 [00:00<00:00, 22.12it/s]\n"
          ]
        },
        {
          "output_type": "stream",
          "name": "stdout",
          "text": [
            "Epoch: 86 evaluation results: Val_loss: 0.48074790835380554, mAP: 0.9199999999999999, F_score: 0.9160986235986236\n"
          ]
        },
        {
          "output_type": "stream",
          "name": "stderr",
          "text": [
            "Training [epoch 87/600 | episode 10/10] | (loss=1.91275 | lr=0.000000): 100%|| 10/10 [00:07<00:00,  1.31it/s]\n",
            "Evaluating model: 100%|██████████| 10/10 [00:00<00:00, 14.23it/s]\n"
          ]
        },
        {
          "output_type": "stream",
          "name": "stdout",
          "text": [
            "Epoch: 87 evaluation results: Val_loss: 0.5342975497245789, mAP: 0.9100000000000001, F_score: 0.908661616161616\n"
          ]
        },
        {
          "output_type": "stream",
          "name": "stderr",
          "text": [
            "Training [epoch 88/600 | episode 10/10] | (loss=1.90209 | lr=0.000000): 100%|| 10/10 [00:07<00:00,  1.33it/s]\n",
            "Evaluating model: 100%|██████████| 10/10 [00:00<00:00, 22.02it/s]\n"
          ]
        },
        {
          "output_type": "stream",
          "name": "stdout",
          "text": [
            "Epoch: 88 evaluation results: Val_loss: 0.5256254613399506, mAP: 0.8899999999999999, F_score: 0.8806132756132756\n"
          ]
        },
        {
          "output_type": "stream",
          "name": "stderr",
          "text": [
            "Training [epoch 89/600 | episode 10/10] | (loss=1.93455 | lr=0.000000): 100%|| 10/10 [00:08<00:00,  1.18it/s]\n",
            "Evaluating model: 100%|██████████| 10/10 [00:00<00:00, 18.05it/s]\n"
          ]
        },
        {
          "output_type": "stream",
          "name": "stdout",
          "text": [
            "Epoch: 89 evaluation results: Val_loss: 0.42327938675880433, mAP: 0.99, F_score: 0.98989898989899\n"
          ]
        },
        {
          "output_type": "stream",
          "name": "stderr",
          "text": [
            "Training [epoch 90/600 | episode 10/10] | (loss=1.96849 | lr=0.000000): 100%|| 10/10 [00:06<00:00,  1.44it/s]\n",
            "Evaluating model: 100%|██████████| 10/10 [00:00<00:00, 22.38it/s]\n"
          ]
        },
        {
          "output_type": "stream",
          "name": "stdout",
          "text": [
            "Epoch: 90 evaluation results: Val_loss: 0.49537128806114195, mAP: 0.99, F_score: 0.98989898989899\n"
          ]
        },
        {
          "output_type": "stream",
          "name": "stderr",
          "text": [
            "Training [epoch 91/600 | episode 10/10] | (loss=1.93747 | lr=0.000000): 100%|| 10/10 [00:08<00:00,  1.18it/s]\n",
            "Evaluating model: 100%|██████████| 10/10 [00:00<00:00, 21.55it/s]\n"
          ]
        },
        {
          "output_type": "stream",
          "name": "stdout",
          "text": [
            "Epoch: 91 evaluation results: Val_loss: 0.5683787018060684, mAP: 0.9, F_score: 0.8977272727272727\n"
          ]
        },
        {
          "output_type": "stream",
          "name": "stderr",
          "text": [
            "Training [epoch 92/600 | episode 10/10] | (loss=1.94160 | lr=0.000000): 100%|| 10/10 [00:06<00:00,  1.44it/s]\n",
            "Evaluating model: 100%|██████████| 10/10 [00:00<00:00, 21.61it/s]\n"
          ]
        },
        {
          "output_type": "stream",
          "name": "stdout",
          "text": [
            "Epoch: 92 evaluation results: Val_loss: 0.5325311332941055, mAP: 0.9500000000000002, F_score: 0.9488636363636364\n"
          ]
        },
        {
          "output_type": "stream",
          "name": "stderr",
          "text": [
            "Training [epoch 93/600 | episode 10/10] | (loss=1.95073 | lr=0.000000): 100%|| 10/10 [00:08<00:00,  1.18it/s]\n",
            "Evaluating model: 100%|██████████| 10/10 [00:00<00:00, 21.44it/s]\n"
          ]
        },
        {
          "output_type": "stream",
          "name": "stdout",
          "text": [
            "Epoch: 93 evaluation results: Val_loss: 0.48282411098480227, mAP: 0.96, F_score: 0.9595959595959596\n"
          ]
        },
        {
          "output_type": "stream",
          "name": "stderr",
          "text": [
            "Training [epoch 94/600 | episode 10/10] | (loss=1.98094 | lr=0.000000): 100%|| 10/10 [00:06<00:00,  1.45it/s]\n",
            "Evaluating model: 100%|██████████| 10/10 [00:00<00:00, 14.91it/s]\n"
          ]
        },
        {
          "output_type": "stream",
          "name": "stdout",
          "text": [
            "Epoch: 94 evaluation results: Val_loss: 0.5215918034315109, mAP: 0.9800000000000001, F_score: 0.9797979797979798\n"
          ]
        },
        {
          "output_type": "stream",
          "name": "stderr",
          "text": [
            "Training [epoch 95/600 | episode 10/10] | (loss=1.92970 | lr=0.000000): 100%|| 10/10 [00:08<00:00,  1.21it/s]\n",
            "Evaluating model: 100%|██████████| 10/10 [00:00<00:00, 22.62it/s]\n"
          ]
        },
        {
          "output_type": "stream",
          "name": "stdout",
          "text": [
            "Epoch: 95 evaluation results: Val_loss: 0.5532969117164612, mAP: 0.9400000000000001, F_score: 0.9389646464646466\n"
          ]
        },
        {
          "output_type": "stream",
          "name": "stderr",
          "text": [
            "Training [epoch 96/600 | episode 10/10] | (loss=1.92221 | lr=0.000000): 100%|| 10/10 [00:07<00:00,  1.33it/s]\n",
            "Evaluating model: 100%|██████████| 10/10 [00:00<00:00, 15.41it/s]\n"
          ]
        },
        {
          "output_type": "stream",
          "name": "stdout",
          "text": [
            "Epoch: 96 evaluation results: Val_loss: 0.43727525472640993, mAP: 0.9400000000000001, F_score: 0.9381313131313131\n"
          ]
        },
        {
          "output_type": "stream",
          "name": "stderr",
          "text": [
            "Training [epoch 97/600 | episode 10/10] | (loss=1.90632 | lr=0.000000): 100%|| 10/10 [00:07<00:00,  1.32it/s]\n",
            "Evaluating model: 100%|██████████| 10/10 [00:00<00:00, 22.28it/s]\n"
          ]
        },
        {
          "output_type": "stream",
          "name": "stdout",
          "text": [
            "Epoch: 97 evaluation results: Val_loss: 0.5569739937782288, mAP: 0.9, F_score: 0.8917748917748917\n"
          ]
        },
        {
          "output_type": "stream",
          "name": "stderr",
          "text": [
            "Training [epoch 98/600 | episode 10/10] | (loss=1.98633 | lr=0.000000): 100%|| 10/10 [00:08<00:00,  1.21it/s]\n",
            "Evaluating model: 100%|██████████| 10/10 [00:00<00:00, 15.06it/s]\n"
          ]
        },
        {
          "output_type": "stream",
          "name": "stdout",
          "text": [
            "Epoch: 98 evaluation results: Val_loss: 0.5882124960422516, mAP: 0.96, F_score: 0.9589646464646464\n"
          ]
        },
        {
          "output_type": "stream",
          "name": "stderr",
          "text": [
            "Training [epoch 99/600 | episode 10/10] | (loss=2.00818 | lr=0.000000): 100%|| 10/10 [00:06<00:00,  1.44it/s]\n",
            "Evaluating model: 100%|██████████| 10/10 [00:00<00:00, 21.96it/s]\n"
          ]
        },
        {
          "output_type": "stream",
          "name": "stdout",
          "text": [
            "Epoch: 99 evaluation results: Val_loss: 0.4529955804347992, mAP: 1.0, F_score: 1.0\n"
          ]
        },
        {
          "output_type": "stream",
          "name": "stderr",
          "text": [
            "Training [epoch 100/600 | episode 10/10] | (loss=2.00992 | lr=0.000000): 100%|| 10/10 [00:08<00:00,  1.18it/s]\n",
            "Evaluating model: 100%|██████████| 10/10 [00:00<00:00, 21.39it/s]\n"
          ]
        },
        {
          "output_type": "stream",
          "name": "stdout",
          "text": [
            "Epoch: 100 evaluation results: Val_loss: 0.5209643870592118, mAP: 0.95, F_score: 0.9482323232323232\n"
          ]
        },
        {
          "output_type": "stream",
          "name": "stderr",
          "text": [
            "Training [epoch 101/600 | episode 10/10] | (loss=1.95785 | lr=0.000000): 100%|| 10/10 [00:06<00:00,  1.46it/s]\n",
            "Evaluating model: 100%|██████████| 10/10 [00:00<00:00, 21.56it/s]\n"
          ]
        },
        {
          "output_type": "stream",
          "name": "stdout",
          "text": [
            "Epoch: 101 evaluation results: Val_loss: 0.5376225799322129, mAP: 0.9700000000000001, F_score: 0.9690656565656566\n"
          ]
        },
        {
          "output_type": "stream",
          "name": "stderr",
          "text": [
            "Training [epoch 102/600 | episode 10/10] | (loss=1.95408 | lr=0.000000): 100%|| 10/10 [00:08<00:00,  1.17it/s]\n",
            "Evaluating model: 100%|██████████| 10/10 [00:00<00:00, 21.48it/s]\n"
          ]
        },
        {
          "output_type": "stream",
          "name": "stdout",
          "text": [
            "Epoch: 102 evaluation results: Val_loss: 0.46973118782043455, mAP: 0.9700000000000001, F_score: 0.9696969696969697\n"
          ]
        },
        {
          "output_type": "stream",
          "name": "stderr",
          "text": [
            "Training [epoch 103/600 | episode 10/10] | (loss=1.95499 | lr=0.000000): 100%|| 10/10 [00:06<00:00,  1.46it/s]\n",
            "Evaluating model: 100%|██████████| 10/10 [00:00<00:00, 16.87it/s]\n"
          ]
        },
        {
          "output_type": "stream",
          "name": "stdout",
          "text": [
            "Epoch: 103 evaluation results: Val_loss: 0.5402328073978424, mAP: 0.9100000000000001, F_score: 0.9078282828282827\n"
          ]
        },
        {
          "output_type": "stream",
          "name": "stderr",
          "text": [
            "Training [epoch 104/600 | episode 10/10] | (loss=1.98768 | lr=0.000000): 100%|| 10/10 [00:08<00:00,  1.21it/s]\n",
            "Evaluating model: 100%|██████████| 10/10 [00:00<00:00, 21.47it/s]\n"
          ]
        },
        {
          "output_type": "stream",
          "name": "stdout",
          "text": [
            "Epoch: 104 evaluation results: Val_loss: 0.553894367814064, mAP: 0.9099999999999999, F_score: 0.9071969696969695\n"
          ]
        },
        {
          "output_type": "stream",
          "name": "stderr",
          "text": [
            "Training [epoch 105/600 | episode 10/10] | (loss=1.94369 | lr=0.000000): 100%|| 10/10 [00:07<00:00,  1.35it/s]\n",
            "Evaluating model: 100%|██████████| 10/10 [00:00<00:00, 14.44it/s]\n"
          ]
        },
        {
          "output_type": "stream",
          "name": "stdout",
          "text": [
            "Epoch: 105 evaluation results: Val_loss: 0.5227015227079391, mAP: 0.9400000000000001, F_score: 0.9387626262626263\n"
          ]
        },
        {
          "output_type": "stream",
          "name": "stderr",
          "text": [
            "Training [epoch 106/600 | episode 10/10] | (loss=1.96349 | lr=0.000000): 100%|| 10/10 [00:07<00:00,  1.32it/s]\n",
            "Evaluating model: 100%|██████████| 10/10 [00:00<00:00, 22.42it/s]\n"
          ]
        },
        {
          "output_type": "stream",
          "name": "stdout",
          "text": [
            "Epoch: 106 evaluation results: Val_loss: 0.5393132477998733, mAP: 0.97, F_score: 0.9698989898989898\n"
          ]
        },
        {
          "output_type": "stream",
          "name": "stderr",
          "text": [
            "Training [epoch 107/600 | episode 10/10] | (loss=1.91771 | lr=0.000000): 100%|| 10/10 [00:08<00:00,  1.22it/s]\n",
            "Evaluating model: 100%|██████████| 10/10 [00:00<00:00, 14.34it/s]\n"
          ]
        },
        {
          "output_type": "stream",
          "name": "stdout",
          "text": [
            "Epoch: 107 evaluation results: Val_loss: 0.5084999412298202, mAP: 0.95, F_score: 0.9494949494949495\n"
          ]
        },
        {
          "output_type": "stream",
          "name": "stderr",
          "text": [
            "Training [epoch 108/600 | episode 10/10] | (loss=1.89375 | lr=0.000000): 100%|| 10/10 [00:06<00:00,  1.44it/s]\n",
            "Evaluating model: 100%|██████████| 10/10 [00:00<00:00, 21.71it/s]\n"
          ]
        },
        {
          "output_type": "stream",
          "name": "stdout",
          "text": [
            "Epoch: 108 evaluation results: Val_loss: 0.5630448788404465, mAP: 0.95, F_score: 0.9488636363636364\n"
          ]
        },
        {
          "output_type": "stream",
          "name": "stderr",
          "text": [
            "Training [epoch 109/600 | episode 10/10] | (loss=1.95527 | lr=0.000000): 100%|| 10/10 [00:08<00:00,  1.19it/s]\n",
            "Evaluating model: 100%|██████████| 10/10 [00:00<00:00, 20.72it/s]\n"
          ]
        },
        {
          "output_type": "stream",
          "name": "stdout",
          "text": [
            "Epoch: 109 evaluation results: Val_loss: 0.48866409361362456, mAP: 0.93, F_score: 0.9288636363636364\n"
          ]
        },
        {
          "output_type": "stream",
          "name": "stderr",
          "text": [
            "Training [epoch 110/600 | episode 10/10] | (loss=1.91332 | lr=0.000000): 100%|| 10/10 [00:06<00:00,  1.45it/s]\n",
            "Evaluating model: 100%|██████████| 10/10 [00:00<00:00, 21.82it/s]\n"
          ]
        },
        {
          "output_type": "stream",
          "name": "stdout",
          "text": [
            "Epoch: 110 evaluation results: Val_loss: 0.49550890922546387, mAP: 0.9400000000000001, F_score: 0.9381313131313131\n"
          ]
        },
        {
          "output_type": "stream",
          "name": "stderr",
          "text": [
            "Training [epoch 111/600 | episode 10/10] | (loss=1.91842 | lr=0.000000): 100%|| 10/10 [00:08<00:00,  1.17it/s]\n",
            "Evaluating model: 100%|██████████| 10/10 [00:00<00:00, 21.23it/s]\n"
          ]
        },
        {
          "output_type": "stream",
          "name": "stdout",
          "text": [
            "Epoch: 111 evaluation results: Val_loss: 0.5193685293197632, mAP: 0.9800000000000001, F_score: 0.9797979797979798\n"
          ]
        },
        {
          "output_type": "stream",
          "name": "stderr",
          "text": [
            "Training [epoch 112/600 | episode 10/10] | (loss=1.94280 | lr=0.000000): 100%|| 10/10 [00:06<00:00,  1.44it/s]\n",
            "Evaluating model: 100%|██████████| 10/10 [00:00<00:00, 20.56it/s]\n"
          ]
        },
        {
          "output_type": "stream",
          "name": "stdout",
          "text": [
            "Epoch: 112 evaluation results: Val_loss: 0.5597665041685105, mAP: 0.8699999999999999, F_score: 0.8661616161616161\n"
          ]
        },
        {
          "output_type": "stream",
          "name": "stderr",
          "text": [
            "Training [epoch 113/600 | episode 10/10] | (loss=1.97910 | lr=0.000000): 100%|| 10/10 [00:08<00:00,  1.19it/s]\n",
            "Evaluating model: 100%|██████████| 10/10 [00:00<00:00, 21.78it/s]\n"
          ]
        },
        {
          "output_type": "stream",
          "name": "stdout",
          "text": [
            "Epoch: 113 evaluation results: Val_loss: 0.5054458975791931, mAP: 0.9800000000000001, F_score: 0.9797979797979798\n"
          ]
        },
        {
          "output_type": "stream",
          "name": "stderr",
          "text": [
            "Training [epoch 114/600 | episode 10/10] | (loss=1.89477 | lr=0.000000): 100%|| 10/10 [00:07<00:00,  1.37it/s]\n",
            "Evaluating model: 100%|██████████| 10/10 [00:00<00:00, 14.56it/s]\n"
          ]
        },
        {
          "output_type": "stream",
          "name": "stdout",
          "text": [
            "Epoch: 114 evaluation results: Val_loss: 0.4985443115234375, mAP: 0.9600000000000002, F_score: 0.9589646464646464\n"
          ]
        },
        {
          "output_type": "stream",
          "name": "stderr",
          "text": [
            "Training [epoch 115/600 | episode 10/10] | (loss=1.95623 | lr=0.000000): 100%|| 10/10 [00:07<00:00,  1.29it/s]\n",
            "Evaluating model: 100%|██████████| 10/10 [00:00<00:00, 21.51it/s]\n"
          ]
        },
        {
          "output_type": "stream",
          "name": "stdout",
          "text": [
            "Epoch: 115 evaluation results: Val_loss: 0.5782088994979858, mAP: 0.9, F_score: 0.8952652902652904\n"
          ]
        },
        {
          "output_type": "stream",
          "name": "stderr",
          "text": [
            "Training [epoch 116/600 | episode 10/10] | (loss=1.93930 | lr=0.000000): 100%|| 10/10 [00:07<00:00,  1.27it/s]\n",
            "Evaluating model: 100%|██████████| 10/10 [00:00<00:00, 14.60it/s]\n"
          ]
        },
        {
          "output_type": "stream",
          "name": "stdout",
          "text": [
            "Epoch: 116 evaluation results: Val_loss: 0.4728262573480606, mAP: 0.9700000000000001, F_score: 0.9696969696969695\n"
          ]
        },
        {
          "output_type": "stream",
          "name": "stderr",
          "text": [
            "Training [epoch 117/600 | episode 10/10] | (loss=1.89446 | lr=0.000000): 100%|| 10/10 [00:07<00:00,  1.38it/s]\n",
            "Evaluating model: 100%|██████████| 10/10 [00:00<00:00, 20.88it/s]\n"
          ]
        },
        {
          "output_type": "stream",
          "name": "stdout",
          "text": [
            "Epoch: 117 evaluation results: Val_loss: 0.5557670146226883, mAP: 0.9800000000000001, F_score: 0.9797979797979798\n"
          ]
        },
        {
          "output_type": "stream",
          "name": "stderr",
          "text": [
            "Training [epoch 118/600 | episode 10/10] | (loss=1.92193 | lr=0.000000): 100%|| 10/10 [00:08<00:00,  1.17it/s]\n",
            "Evaluating model: 100%|██████████| 10/10 [00:00<00:00, 21.94it/s]\n"
          ]
        },
        {
          "output_type": "stream",
          "name": "stdout",
          "text": [
            "Epoch: 118 evaluation results: Val_loss: 0.49130958318710327, mAP: 0.95, F_score: 0.9468309468309467\n"
          ]
        },
        {
          "output_type": "stream",
          "name": "stderr",
          "text": [
            "Training [epoch 119/600 | episode 10/10] | (loss=1.94835 | lr=0.000000): 100%|| 10/10 [00:07<00:00,  1.42it/s]\n",
            "Evaluating model: 100%|██████████| 10/10 [00:00<00:00, 21.52it/s]\n"
          ]
        },
        {
          "output_type": "stream",
          "name": "stdout",
          "text": [
            "Epoch: 119 evaluation results: Val_loss: 0.54506516456604, mAP: 0.9400000000000001, F_score: 0.9387626262626263\n"
          ]
        },
        {
          "output_type": "stream",
          "name": "stderr",
          "text": [
            "Training [epoch 120/600 | episode 10/10] | (loss=1.92494 | lr=0.000000): 100%|| 10/10 [00:08<00:00,  1.17it/s]\n",
            "Evaluating model: 100%|██████████| 10/10 [00:00<00:00, 20.58it/s]\n"
          ]
        },
        {
          "output_type": "stream",
          "name": "stdout",
          "text": [
            "Epoch: 120 evaluation results: Val_loss: 0.46800868809223173, mAP: 0.99, F_score: 0.98989898989899\n"
          ]
        },
        {
          "output_type": "stream",
          "name": "stderr",
          "text": [
            "Training [epoch 121/600 | episode 10/10] | (loss=2.01118 | lr=0.000000): 100%|| 10/10 [00:06<00:00,  1.43it/s]\n",
            "Evaluating model: 100%|██████████| 10/10 [00:00<00:00, 15.91it/s]\n"
          ]
        },
        {
          "output_type": "stream",
          "name": "stdout",
          "text": [
            "Epoch: 121 evaluation results: Val_loss: 0.49430540204048157, mAP: 0.97, F_score: 0.9696969696969695\n"
          ]
        },
        {
          "output_type": "stream",
          "name": "stderr",
          "text": [
            "Training [epoch 122/600 | episode 10/10] | (loss=1.92540 | lr=0.000000): 100%|| 10/10 [00:08<00:00,  1.19it/s]\n",
            "Evaluating model: 100%|██████████| 10/10 [00:00<00:00, 21.39it/s]\n"
          ]
        },
        {
          "output_type": "stream",
          "name": "stdout",
          "text": [
            "Epoch: 122 evaluation results: Val_loss: 0.5928194731473923, mAP: 0.9000000000000001, F_score: 0.8950632700632702\n"
          ]
        },
        {
          "output_type": "stream",
          "name": "stderr",
          "text": [
            "Training [epoch 123/600 | episode 10/10] | (loss=1.91600 | lr=0.000000): 100%|| 10/10 [00:07<00:00,  1.30it/s]\n",
            "Evaluating model: 100%|██████████| 10/10 [00:00<00:00, 14.75it/s]\n"
          ]
        },
        {
          "output_type": "stream",
          "name": "stdout",
          "text": [
            "Epoch: 123 evaluation results: Val_loss: 0.48059104681015014, mAP: 0.97, F_score: 0.9670329670329672\n"
          ]
        },
        {
          "output_type": "stream",
          "name": "stderr",
          "text": [
            "Training [epoch 124/600 | episode 10/10] | (loss=1.95246 | lr=0.000000): 100%|| 10/10 [00:07<00:00,  1.30it/s]\n",
            "Evaluating model: 100%|██████████| 10/10 [00:00<00:00, 22.19it/s]\n"
          ]
        },
        {
          "output_type": "stream",
          "name": "stdout",
          "text": [
            "Epoch: 124 evaluation results: Val_loss: 0.5252588748931885, mAP: 0.9700000000000001, F_score: 0.9696969696969697\n"
          ]
        },
        {
          "output_type": "stream",
          "name": "stderr",
          "text": [
            "Training [epoch 125/600 | episode 10/10] | (loss=1.95438 | lr=0.000000): 100%|| 10/10 [00:08<00:00,  1.19it/s]\n",
            "Evaluating model: 100%|██████████| 10/10 [00:00<00:00, 15.49it/s]\n"
          ]
        },
        {
          "output_type": "stream",
          "name": "stdout",
          "text": [
            "Epoch: 125 evaluation results: Val_loss: 0.49568787813186643, mAP: 0.9700000000000001, F_score: 0.9696969696969695\n"
          ]
        },
        {
          "output_type": "stream",
          "name": "stderr",
          "text": [
            "Training [epoch 126/600 | episode 10/10] | (loss=1.90710 | lr=0.000000): 100%|| 10/10 [00:07<00:00,  1.41it/s]\n",
            "Evaluating model: 100%|██████████| 10/10 [00:00<00:00, 21.65it/s]\n"
          ]
        },
        {
          "output_type": "stream",
          "name": "stdout",
          "text": [
            "Epoch: 126 evaluation results: Val_loss: 0.5547630935907364, mAP: 0.9000000000000001, F_score: 0.898560606060606\n"
          ]
        },
        {
          "output_type": "stream",
          "name": "stderr",
          "text": [
            "Training [epoch 127/600 | episode 10/10] | (loss=1.91613 | lr=0.000000): 100%|| 10/10 [00:08<00:00,  1.16it/s]\n",
            "Evaluating model: 100%|██████████| 10/10 [00:00<00:00, 21.43it/s]\n"
          ]
        },
        {
          "output_type": "stream",
          "name": "stdout",
          "text": [
            "Epoch: 127 evaluation results: Val_loss: 0.5623648762702942, mAP: 0.95, F_score: 0.9496969696969696\n"
          ]
        },
        {
          "output_type": "stream",
          "name": "stderr",
          "text": [
            "Training [epoch 128/600 | episode 10/10] | (loss=1.93019 | lr=0.000000): 100%|| 10/10 [00:07<00:00,  1.42it/s]\n",
            "Evaluating model: 100%|██████████| 10/10 [00:00<00:00, 19.72it/s]\n"
          ]
        },
        {
          "output_type": "stream",
          "name": "stdout",
          "text": [
            "Epoch: 128 evaluation results: Val_loss: 0.43950085937976835, mAP: 0.9700000000000001, F_score: 0.9696969696969695\n"
          ]
        },
        {
          "output_type": "stream",
          "name": "stderr",
          "text": [
            "Training [epoch 129/600 | episode 10/10] | (loss=1.88364 | lr=0.000000): 100%|| 10/10 [00:08<00:00,  1.16it/s]\n",
            "Evaluating model: 100%|██████████| 10/10 [00:00<00:00, 21.29it/s]\n"
          ]
        },
        {
          "output_type": "stream",
          "name": "stdout",
          "text": [
            "Epoch: 129 evaluation results: Val_loss: 0.5330009311437607, mAP: 0.9399999999999998, F_score: 0.9387626262626263\n"
          ]
        },
        {
          "output_type": "stream",
          "name": "stderr",
          "text": [
            "Training [epoch 130/600 | episode 10/10] | (loss=1.98146 | lr=0.000000): 100%|| 10/10 [00:07<00:00,  1.35it/s]\n",
            "Evaluating model: 100%|██████████| 10/10 [00:00<00:00, 14.87it/s]\n"
          ]
        },
        {
          "output_type": "stream",
          "name": "stdout",
          "text": [
            "Epoch: 130 evaluation results: Val_loss: 0.5209345072507858, mAP: 0.9800000000000001, F_score: 0.9797979797979798\n"
          ]
        },
        {
          "output_type": "stream",
          "name": "stderr",
          "text": [
            "Training [epoch 131/600 | episode 10/10] | (loss=1.99600 | lr=0.000000): 100%|| 10/10 [00:08<00:00,  1.25it/s]\n",
            "Evaluating model: 100%|██████████| 10/10 [00:00<00:00, 21.45it/s]\n"
          ]
        },
        {
          "output_type": "stream",
          "name": "stdout",
          "text": [
            "Epoch: 131 evaluation results: Val_loss: 0.48031036257743837, mAP: 0.9400000000000001, F_score: 0.9393939393939394\n"
          ]
        },
        {
          "output_type": "stream",
          "name": "stderr",
          "text": [
            "Training [epoch 132/600 | episode 10/10] | (loss=1.92126 | lr=0.000000): 100%|| 10/10 [00:08<00:00,  1.25it/s]\n",
            "Evaluating model: 100%|██████████| 10/10 [00:00<00:00, 14.85it/s]\n"
          ]
        },
        {
          "output_type": "stream",
          "name": "stdout",
          "text": [
            "Epoch: 132 evaluation results: Val_loss: 0.5127626210451126, mAP: 0.9400000000000001, F_score: 0.9395959595959595\n"
          ]
        },
        {
          "output_type": "stream",
          "name": "stderr",
          "text": [
            "Training [epoch 133/600 | episode 10/10] | (loss=1.96374 | lr=0.000000): 100%|| 10/10 [00:07<00:00,  1.38it/s]\n",
            "Evaluating model: 100%|██████████| 10/10 [00:00<00:00, 21.22it/s]\n"
          ]
        },
        {
          "output_type": "stream",
          "name": "stdout",
          "text": [
            "Epoch: 133 evaluation results: Val_loss: 0.470708030462265, mAP: 0.9800000000000001, F_score: 0.9791666666666666\n"
          ]
        },
        {
          "output_type": "stream",
          "name": "stderr",
          "text": [
            "Training [epoch 134/600 | episode 10/10] | (loss=1.95623 | lr=0.000000): 100%|| 10/10 [00:08<00:00,  1.16it/s]\n",
            "Evaluating model: 100%|██████████| 10/10 [00:00<00:00, 21.64it/s]\n"
          ]
        },
        {
          "output_type": "stream",
          "name": "stdout",
          "text": [
            "Epoch: 134 evaluation results: Val_loss: 0.502265664935112, mAP: 0.8899999999999999, F_score: 0.8876262626262627\n"
          ]
        },
        {
          "output_type": "stream",
          "name": "stderr",
          "text": [
            "Training [epoch 135/600 | episode 10/10] | (loss=1.98591 | lr=0.000000): 100%|| 10/10 [00:06<00:00,  1.46it/s]\n",
            "Evaluating model: 100%|██████████| 10/10 [00:00<00:00, 21.57it/s]\n"
          ]
        },
        {
          "output_type": "stream",
          "name": "stdout",
          "text": [
            "Epoch: 135 evaluation results: Val_loss: 0.5094206064939499, mAP: 0.95, F_score: 0.9488636363636364\n"
          ]
        },
        {
          "output_type": "stream",
          "name": "stderr",
          "text": [
            "Training [epoch 136/600 | episode 10/10] | (loss=1.92262 | lr=0.000000): 100%|| 10/10 [00:08<00:00,  1.17it/s]\n",
            "Evaluating model: 100%|██████████| 10/10 [00:00<00:00, 22.21it/s]\n"
          ]
        },
        {
          "output_type": "stream",
          "name": "stdout",
          "text": [
            "Epoch: 136 evaluation results: Val_loss: 0.4796690732240677, mAP: 0.9700000000000001, F_score: 0.9696969696969695\n"
          ]
        },
        {
          "output_type": "stream",
          "name": "stderr",
          "text": [
            "Training [epoch 137/600 | episode 10/10] | (loss=1.92081 | lr=0.000000): 100%|| 10/10 [00:06<00:00,  1.46it/s]\n",
            "Evaluating model: 100%|██████████| 10/10 [00:00<00:00, 22.26it/s]\n"
          ]
        },
        {
          "output_type": "stream",
          "name": "stdout",
          "text": [
            "Epoch: 137 evaluation results: Val_loss: 0.5396850347518921, mAP: 0.95, F_score: 0.9494949494949495\n"
          ]
        },
        {
          "output_type": "stream",
          "name": "stderr",
          "text": [
            "Training [epoch 138/600 | episode 10/10] | (loss=1.95489 | lr=0.000000): 100%|| 10/10 [00:08<00:00,  1.17it/s]\n",
            "Evaluating model: 100%|██████████| 10/10 [00:00<00:00, 21.66it/s]\n"
          ]
        },
        {
          "output_type": "stream",
          "name": "stdout",
          "text": [
            "Epoch: 138 evaluation results: Val_loss: 0.4793069511651993, mAP: 0.9800000000000001, F_score: 0.9797979797979798\n"
          ]
        },
        {
          "output_type": "stream",
          "name": "stderr",
          "text": [
            "Training [epoch 139/600 | episode 10/10] | (loss=1.94480 | lr=0.000000): 100%|| 10/10 [00:07<00:00,  1.34it/s]\n",
            "Evaluating model: 100%|██████████| 10/10 [00:00<00:00, 15.30it/s]"
          ]
        },
        {
          "output_type": "stream",
          "name": "stdout",
          "text": [
            "Epoch: 139 evaluation results: Val_loss: 0.504892674088478, mAP: 0.9400000000000001, F_score: 0.9389646464646464\n",
            "[2023-06-30 08:15:05] End of all training. The highest accuracy is 1.0\n"
          ]
        },
        {
          "output_type": "stream",
          "name": "stderr",
          "text": [
            "\n"
          ]
        }
      ]
    }
  ]
}